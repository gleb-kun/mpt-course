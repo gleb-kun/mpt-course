{
 "cells": [
  {
   "cell_type": "markdown",
   "id": "ce1fb0ce-8ea3-469a-b915-cfb3e040afac",
   "metadata": {},
   "source": [
    "# Тема #3. Общие сведения про NumPy"
   ]
  },
  {
   "cell_type": "markdown",
   "id": "aa4916ba-690f-404b-8c22-c66099b20e28",
   "metadata": {},
   "source": [
    "**NumPy** (сокращенно от Numerical Python) — библиотека с открытым исходным кодом для языка Python. Возможности:\n",
    "- поддержка многомерных массивов (включая матрицы);\n",
    "- поддержка высокоуровневых математических функций, предназначенных для работы с многомерными массивами."
   ]
  },
  {
   "cell_type": "code",
   "execution_count": null,
   "id": "639feb1a-5dd8-43a1-a1ce-235ab764fafc",
   "metadata": {},
   "outputs": [],
   "source": []
  }
 ],
 "metadata": {
  "kernelspec": {
   "display_name": "Python 3 (ipykernel)",
   "language": "python",
   "name": "python3"
  },
  "language_info": {
   "codemirror_mode": {
    "name": "ipython",
    "version": 3
   },
   "file_extension": ".py",
   "mimetype": "text/x-python",
   "name": "python",
   "nbconvert_exporter": "python",
   "pygments_lexer": "ipython3",
   "version": "3.13.2"
  }
 },
 "nbformat": 4,
 "nbformat_minor": 5
}
