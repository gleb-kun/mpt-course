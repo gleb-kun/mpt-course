{
 "cells": [
  {
   "cell_type": "markdown",
   "id": "d769b82a-f661-4ac6-a005-b9060f278174",
   "metadata": {},
   "source": [
    "# Тема 6. Численные методы и программирование"
   ]
  },
  {
   "cell_type": "code",
   "execution_count": null,
   "id": "54627d87-aa01-4d41-b5e4-1e661696ffcd",
   "metadata": {},
   "outputs": [],
   "source": []
  }
 ],
 "metadata": {
  "kernelspec": {
   "display_name": "Python 3 (ipykernel)",
   "language": "python",
   "name": "python3"
  },
  "language_info": {
   "codemirror_mode": {
    "name": "ipython",
    "version": 3
   },
   "file_extension": ".py",
   "mimetype": "text/x-python",
   "name": "python",
   "nbconvert_exporter": "python",
   "pygments_lexer": "ipython3",
   "version": "3.13.2"
  }
 },
 "nbformat": 4,
 "nbformat_minor": 5
}
