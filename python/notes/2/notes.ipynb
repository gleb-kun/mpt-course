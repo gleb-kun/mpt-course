{
 "cells": [
  {
   "cell_type": "markdown",
   "id": "590a398b-7af5-421d-9375-8138eaaf5ebe",
   "metadata": {},
   "source": [
    "# Тема #2. Символьные вычисления"
   ]
  },
  {
   "cell_type": "markdown",
   "id": "bf13cea9-72e2-43c3-8ee1-cbbc34fbb9a2",
   "metadata": {},
   "source": [
    "Цель: изучить основные функции библиотеки **SymPy**, понять основные принципы ее работы."
   ]
  },
  {
   "cell_type": "markdown",
   "id": "3da23dea-8279-4373-8934-4a789a5451cc",
   "metadata": {},
   "source": [
    "## Установка"
   ]
  },
  {
   "cell_type": "markdown",
   "id": "7b8737bb-505e-4d34-85d4-3965c01859a0",
   "metadata": {},
   "source": [
    "Для установки библиотеки используем, например, пакетный менеджер **pip**. В терминале прописываем:\n",
    "```shell\n",
    "python -m pip install sympy\n",
    "```"
   ]
  },
  {
   "cell_type": "markdown",
   "id": "43681906-61b9-4afa-a7c7-bec7ffc81525",
   "metadata": {},
   "source": [
    "## Символьные выражения"
   ]
  },
  {
   "cell_type": "markdown",
   "id": "5cbb64f3-762b-4ee2-b297-ab1a2360cfe4",
   "metadata": {},
   "source": [
    "Библиотека **SymPy** используется для символьных вычислений. Она позволяет работать с символьными выражениями, совершать над ними различные преобразования, находить производные, брать интегралы и решать уравнения."
   ]
  },
  {
   "cell_type": "code",
   "execution_count": 1,
   "id": "1af2cca8-0d5d-465c-9f24-086756fb387e",
   "metadata": {},
   "outputs": [],
   "source": [
    "from sympy import symbols"
   ]
  },
  {
   "cell_type": "code",
   "execution_count": 2,
   "id": "592db997-26fc-4553-b922-c5fcf4ee55a0",
   "metadata": {},
   "outputs": [
    {
     "name": "stdout",
     "output_type": "stream",
     "text": [
      "x + 3*y\n"
     ]
    }
   ],
   "source": [
    "# Создаем символы\n",
    "x, y = symbols(\"x y\")\n",
    "\n",
    "# Записываем выражение\n",
    "expr = x + y * 3\n",
    "\n",
    "# Выводим результат\n",
    "print(expr)  # x + 3*y"
   ]
  },
  {
   "cell_type": "markdown",
   "id": "5f672c9d-b87e-44e6-8cb6-73a4d656a5d0",
   "metadata": {},
   "source": [
    "Здесь `x` и `y` — это символы, а не числа (не переменные, например, типа `double` или `int`), поэтому Python не вычисляет выражение, а просто выводит его в символьном виде."
   ]
  },
  {
   "cell_type": "markdown",
   "id": "ef84d307-12ec-4234-a32f-276374145677",
   "metadata": {},
   "source": [
    "### Подстановка значений"
   ]
  },
  {
   "cell_type": "markdown",
   "id": "bfd1b513-773d-4ef4-9e4f-52b3151402a6",
   "metadata": {},
   "source": [
    "Для подстановки чисел в выражение используется метод `expr.subs(old, new)`.\n",
    "- `old` — заменяемый символ, число или выражение.\n",
    "- `new` — новое значение или выражение, на которое производится замена.\n",
    "\n",
    "Можно передавать словарь для замены нескольких значений сразу: `expr.subs({old1: new1, old2: new2, ...})`."
   ]
  },
  {
   "cell_type": "code",
   "execution_count": 3,
   "id": "95f6ff1f-87f8-4ef5-895f-41cf53e680ce",
   "metadata": {},
   "outputs": [
    {
     "name": "stdout",
     "output_type": "stream",
     "text": [
      "17\n"
     ]
    }
   ],
   "source": [
    "value = expr.subs({x: 2, y: 5})\n",
    "print(value)"
   ]
  },
  {
   "cell_type": "markdown",
   "id": "1dbd8a0f-9910-420e-9f33-3e775c9b639c",
   "metadata": {},
   "source": [
    "### Упрощение выражений"
   ]
  },
  {
   "cell_type": "markdown",
   "id": "b093e214-97d5-4192-88bf-80e02242e32a",
   "metadata": {},
   "source": [
    "В SymPy выражения часто упрощаются автоматически при их создании или выводе, особенно если они включают арифметические операции с числами.\n",
    "Например, выражение $$8-3\\cdot \\left(\\frac{1}{3}+0.2\\right)-10+x,$$ представленное как"
   ]
  },
  {
   "cell_type": "code",
   "execution_count": 4,
   "id": "bac80ee6-6d03-4510-b53a-6b37c6f5997f",
   "metadata": {},
   "outputs": [],
   "source": [
    "expr = 8 - 3*(1 / 3 + 0.2) - 10 + x"
   ]
  },
  {
   "cell_type": "markdown",
   "id": "84cb2bdb-691a-4218-8e17-8076c8e95da9",
   "metadata": {},
   "source": [
    "будет автоматически упрощено в:"
   ]
  },
  {
   "cell_type": "code",
   "execution_count": 5,
   "id": "7c05a0b2-5654-492c-9ff3-97e4382edbeb",
   "metadata": {},
   "outputs": [
    {
     "name": "stdout",
     "output_type": "stream",
     "text": [
      "x - 3.6\n"
     ]
    }
   ],
   "source": [
    "print(expr)"
   ]
  },
  {
   "cell_type": "markdown",
   "id": "ef927abe-46f4-4adc-ab49-6a76ed1e905e",
   "metadata": {},
   "source": [
    "Если нужно оставить выражение **в неизменном виде**, можно использовать функцию `UnevaluatedExpr`:"
   ]
  },
  {
   "cell_type": "code",
   "execution_count": 6,
   "id": "646bc6e7-1d96-467b-85d5-3ec7b3709073",
   "metadata": {},
   "outputs": [
    {
     "name": "stdout",
     "output_type": "stream",
     "text": [
      "x - 3*(0.2 + 1*3**(-1)) + 8 - 10\n"
     ]
    }
   ],
   "source": [
    "from sympy import UnevaluatedExpr as ue\n",
    "\n",
    "x, y = symbols(\"x y\")\n",
    "expr = ue(8) - 3*(ue(1) / ue(3) + 0.2) - ue(10) + x\n",
    "\n",
    "print(expr)"
   ]
  },
  {
   "cell_type": "markdown",
   "id": "b4024939-65a9-4f1d-abce-fee1894ef89c",
   "metadata": {},
   "source": [
    "Для упрощения выражаения существует функция `simplify()`:"
   ]
  },
  {
   "cell_type": "code",
   "execution_count": 7,
   "id": "0c23043b-e67b-4382-a3de-b9c89fc00193",
   "metadata": {},
   "outputs": [
    {
     "data": {
      "text/latex": [
       "$\\displaystyle x - 3.6$"
      ],
      "text/plain": [
       "x - 3.6"
      ]
     },
     "execution_count": 7,
     "metadata": {},
     "output_type": "execute_result"
    }
   ],
   "source": [
    "from sympy import simplify\n",
    "simplify(expr)"
   ]
  },
  {
   "cell_type": "markdown",
   "id": "36854408-5c24-4682-90a1-8c236d83ce36",
   "metadata": {},
   "source": [
    "Для перевода результата вычисления выражения в вещественный вид существует два способа `N()` и `evalf()`, они почти одинаковые, но есть небольшая разница:  \n",
    "\n",
    "- `evalf()` — метод объекта, в котором хранится выражение.\n",
    "`evalf()` вызывается на конкретном выражении и вычисляет его численное значение:  "
   ]
  },
  {
   "cell_type": "code",
   "execution_count": 8,
   "id": "00d0844e-9c08-46f6-ae6d-84b65ba5637d",
   "metadata": {},
   "outputs": [
    {
     "name": "stdout",
     "output_type": "stream",
     "text": [
      "3.55975281326694\n"
     ]
    }
   ],
   "source": [
    "import sympy as sp\n",
    "\n",
    "x = sp.Symbol(\"x\")\n",
    "expr = sp.sin(x) + sp.exp(x)\n",
    "\n",
    "print(expr.evalf(subs={x: 1}))"
   ]
  },
  {
   "cell_type": "markdown",
   "id": "97fc6b22-535d-43b0-af49-5bf7ed041094",
   "metadata": {},
   "source": [
    "- `sp.N()` — работает так же, но это глобальная функция, а не метод объекта:"
   ]
  },
  {
   "cell_type": "code",
   "execution_count": 9,
   "id": "72d77419-8692-4259-9e61-4b1458c6c4d3",
   "metadata": {},
   "outputs": [
    {
     "name": "stdout",
     "output_type": "stream",
     "text": [
      "3.55975281326694\n"
     ]
    }
   ],
   "source": [
    "print(sp.N(expr, subs={x: 1}))"
   ]
  },
  {
   "cell_type": "markdown",
   "id": "792de816-cd4e-4e24-85cc-cc2df991deb9",
   "metadata": {},
   "source": [
    "Она полезна, если нужно вычислить что-то без вызова метода `evalf()`."
   ]
  },
  {
   "cell_type": "markdown",
   "id": "5129ad99-b924-4452-94e4-6ad146e9f42a",
   "metadata": {},
   "source": [
    "### Раскрытие скобок"
   ]
  },
  {
   "cell_type": "markdown",
   "id": "6b25dd46-131a-428d-a77c-17e87e05b433",
   "metadata": {},
   "source": [
    "Чтобы раскрывать скобки в символьных выражениях существует метод `expand()`."
   ]
  },
  {
   "cell_type": "code",
   "execution_count": 10,
   "id": "5bcbce60-6844-4594-aa12-30c6695a5db3",
   "metadata": {},
   "outputs": [
    {
     "name": "stdout",
     "output_type": "stream",
     "text": [
      "Исходное выражение: (x + 15)**3/(x - 2)**4\n",
      "Раскрытое выражение: x**3/(x**4 - 8*x**3 + 24*x**2 - 32*x + 16) + 45*x**2/(x**4 - 8*x**3 + 24*x**2 - 32*x + 16) + 675*x/(x**4 - 8*x**3 + 24*x**2 - 32*x + 16) + 3375/(x**4 - 8*x**3 + 24*x**2 - 32*x + 16)\n"
     ]
    }
   ],
   "source": [
    "from sympy import symbols, sin, cos, expand\n",
    "\n",
    "x, y = symbols('x y')\n",
    "\n",
    "expr = ((x + 15)**3) / ((x - 2)**4)\n",
    "expanded_expr = expr.expand(trig=True)\n",
    "\n",
    "print(\"Исходное выражение:\", expr)\n",
    "print(\"Раскрытое выражение:\", expanded_expr)"
   ]
  },
  {
   "cell_type": "markdown",
   "id": "416cd248-42a7-4877-bd9c-e91c417e50b9",
   "metadata": {},
   "source": [
    "#### Некоторые параметры метода `expand()`"
   ]
  },
  {
   "cell_type": "markdown",
   "id": "0859e356-6f65-4de6-851d-1a97682532d7",
   "metadata": {},
   "source": [
    "- `basic=True` (по умолчанию).\n",
    "Раскрывает стандартные скобки в выражениях.\n",
    "- `power_exp=True`.\n",
    "Раскрывает степень степени.\n",
    "- `power_base=True`.\n",
    "Раскрывает степени с одинаковым основанием.\n",
    "- `mul=True`\n",
    "Раскрывает произведения.\n",
    "- `log=True`\n",
    "Использует логарифмические свойства.\n",
    "- `trig=True`\n",
    "Раскрывает тригонометрические выражения.\n",
    "- `complex=True`\n",
    "Разделяет выражение на действительную и мнимую часть. "
   ]
  },
  {
   "cell_type": "code",
   "execution_count": 11,
   "id": "3e208aed-aef4-4310-b572-5781d80b40d8",
   "metadata": {},
   "outputs": [
    {
     "data": {
      "text/latex": [
       "$\\displaystyle 2 i$"
      ],
      "text/plain": [
       "2*I"
      ]
     },
     "execution_count": 11,
     "metadata": {},
     "output_type": "execute_result"
    }
   ],
   "source": [
    "from sympy import I\n",
    "expand((1 + I) ** 2, complex=True)  "
   ]
  },
  {
   "cell_type": "markdown",
   "id": "a4edb082-4822-43dc-b628-48779ce93816",
   "metadata": {},
   "source": [
    "- Пример с несколькими параметрами:"
   ]
  },
  {
   "cell_type": "code",
   "execution_count": 12,
   "id": "9b85538f-730e-463d-889f-f8cb1378cd9a",
   "metadata": {},
   "outputs": [
    {
     "data": {
      "text/latex": [
       "$\\displaystyle x^{3} y^{3} + \\sin{\\left(x \\right)} \\cos{\\left(y \\right)} + \\sin{\\left(y \\right)} \\cos{\\left(x \\right)}$"
      ],
      "text/plain": [
       "x**3*y**3 + sin(x)*cos(y) + sin(y)*cos(x)"
      ]
     },
     "execution_count": 12,
     "metadata": {},
     "output_type": "execute_result"
    }
   ],
   "source": [
    "expand((x*y)**3 + sin(x + y), power_base=True, trig=True)"
   ]
  },
  {
   "cell_type": "markdown",
   "id": "c1f41062-ced3-4b93-80ee-ed479b2571e6",
   "metadata": {},
   "source": [
    "Кроме этого можно комбинировать параметры в `expand()`, указывая только нужные."
   ]
  },
  {
   "cell_type": "code",
   "execution_count": 13,
   "id": "94c298a6-8511-4f66-9122-1a822a63894a",
   "metadata": {},
   "outputs": [
    {
     "data": {
      "text/latex": [
       "$\\displaystyle x^{3} y^{3} + \\sin{\\left(x \\right)} \\cos{\\left(y \\right)} + \\sin{\\left(y \\right)} \\cos{\\left(x \\right)}$"
      ],
      "text/plain": [
       "x**3*y**3 + sin(x)*cos(y) + sin(y)*cos(x)"
      ]
     },
     "execution_count": 13,
     "metadata": {},
     "output_type": "execute_result"
    }
   ],
   "source": [
    "expand((x*y)**3 + sin(x + y), power_base=True, trig=True)"
   ]
  },
  {
   "cell_type": "markdown",
   "id": "f71294e6-40b6-4b9c-87eb-d5cc3ceae8ec",
   "metadata": {},
   "source": [
    "### Вывод выражений"
   ]
  },
  {
   "cell_type": "markdown",
   "id": "5561599b-c59d-45ef-9b90-41d040c70a3b",
   "metadata": {},
   "source": [
    "Допустим у нас есть некоторое выражение"
   ]
  },
  {
   "cell_type": "code",
   "execution_count": 14,
   "id": "6f7d2cb9-82b6-4a22-b321-7fd0497ffb05",
   "metadata": {},
   "outputs": [],
   "source": [
    "import sympy as sp"
   ]
  },
  {
   "cell_type": "code",
   "execution_count": 15,
   "id": "2fb84659-498b-4688-a0d1-e0718785993d",
   "metadata": {},
   "outputs": [],
   "source": [
    "a = sp.symbols(\"a\", real = True)\n",
    "x = (sp.exp(-abs(a)**1.2) + sp.sin(a**4)) / a"
   ]
  },
  {
   "cell_type": "markdown",
   "id": "459e35a2-f2a1-4711-b6b6-a493404c6408",
   "metadata": {},
   "source": [
    "Его можно вывести в консоль с использованием функции `pprint()`.\n",
    "Это функция из библиотеки SymPy, которая форматирует и красиво выводит математические выражения в консоли.\n",
    "Она делает вывод более читаемым, добавляя дроби, степени и другие символы в удобном формате."
   ]
  },
  {
   "cell_type": "code",
   "execution_count": 16,
   "id": "385567c3-c16b-4e86-8451-15931296acbb",
   "metadata": {},
   "outputs": [
    {
     "name": "stdout",
     "output_type": "stream",
     "text": [
      "               1.2\n",
      "   ⎛ 4⎞    -│a│   \n",
      "sin⎝a ⎠ + ℯ       \n",
      "──────────────────\n",
      "        a         \n"
     ]
    }
   ],
   "source": [
    "sp.pprint(x)"
   ]
  },
  {
   "cell_type": "markdown",
   "id": "ead6295f-5f55-4835-8404-86bc701326b8",
   "metadata": {},
   "source": [
    "### Перевод символьных выражений в код $\\LaTeX$"
   ]
  },
  {
   "cell_type": "markdown",
   "id": "62fd94b5-057e-4469-ae97-101104022437",
   "metadata": {},
   "source": [
    "Можно перевести символьное выражение в $\\LaTeX$ с помощью функции `latex()`."
   ]
  },
  {
   "cell_type": "code",
   "execution_count": 17,
   "id": "113e4f01-e625-485e-b25a-76ebc5887f19",
   "metadata": {},
   "outputs": [
    {
     "name": "stdout",
     "output_type": "stream",
     "text": [
      "\\frac{\\sin{\\left(a^{4} \\right)} + e^{- \\left|{a}\\right|^{1.2}}}{a}\n"
     ]
    }
   ],
   "source": [
    "from sympy import latex\n",
    "latex_expr = latex(x)\n",
    "print(latex_expr)"
   ]
  },
  {
   "cell_type": "markdown",
   "id": "24da0b04-858c-430b-8380-78b650598c4a",
   "metadata": {},
   "source": [
    "Далее отобразим результат средствами Markdown: $$\\frac{\\sin{\\left(a^{4} \\right)} + e^{- \\left|{a}\\right|^{1.2}}}{a}$$"
   ]
  },
  {
   "cell_type": "markdown",
   "id": "cc018bcd-e537-46b0-80db-9b65bd1f0f78",
   "metadata": {},
   "source": [
    "Кроме этого в JupyterLab выражения могут выводиться в $\\LaTeX$ автоматически."
   ]
  },
  {
   "cell_type": "code",
   "execution_count": 18,
   "id": "fc8e05d8-ed4a-4a79-95f5-7bd25d46b830",
   "metadata": {},
   "outputs": [
    {
     "data": {
      "text/latex": [
       "$\\displaystyle \\frac{\\sin{\\left(a^{4} \\right)} + e^{- \\left|{a}\\right|^{1.2}}}{a}$"
      ],
      "text/plain": [
       "(sin(a**4) + exp(-Abs(a)**1.2))/a"
      ]
     },
     "execution_count": 18,
     "metadata": {},
     "output_type": "execute_result"
    }
   ],
   "source": [
    "x"
   ]
  },
  {
   "cell_type": "markdown",
   "id": "1364f677-e9c5-4812-9a00-e3e448977b46",
   "metadata": {},
   "source": [
    "## Символьные функции, лямбда выражения"
   ]
  },
  {
   "cell_type": "markdown",
   "id": "9ae0243b-c3b0-4901-a445-56028e9b5fd9",
   "metadata": {},
   "source": [
    "Символьные выражения можно \"обернуть\" в лямбда-выражения для улучшения читаемости кода и упрощения взаимодействия с ними. Вот пример, как это можно сделать:"
   ]
  },
  {
   "cell_type": "code",
   "execution_count": 19,
   "id": "6c7cd96d-1737-4c3b-9e40-c285cd5c27d8",
   "metadata": {},
   "outputs": [],
   "source": [
    "import sympy as sp"
   ]
  },
  {
   "cell_type": "code",
   "execution_count": 20,
   "id": "d83c4fae-23c0-40e9-bda8-2d1da3785be7",
   "metadata": {},
   "outputs": [
    {
     "name": "stdout",
     "output_type": "stream",
     "text": [
      "                        3                        6   π\n",
      "- 0.000462962962962963⋅π  + 1.78612254229538e-7⋅π  + ─\n",
      "                                                     6\n"
     ]
    }
   ],
   "source": [
    "x = sp.symbols(\"x\")\n",
    "\n",
    "expr = x - x**3 / 10 + x**6 / 120\n",
    "y = sp.lambdify(x, expr)\n",
    "\n",
    "point = sp.pi/6\n",
    "result = y(point)\n",
    "sp.pprint(result)"
   ]
  },
  {
   "cell_type": "code",
   "execution_count": 21,
   "id": "b6597caf-58a8-423b-924f-1657cf12c7cc",
   "metadata": {},
   "outputs": [
    {
     "name": "stdout",
     "output_type": "stream",
     "text": [
      "0.509415733766994\n"
     ]
    }
   ],
   "source": [
    "print(result.evalf())"
   ]
  },
  {
   "cell_type": "markdown",
   "id": "10a06c28-5ca2-4ef3-92e0-6c898b681878",
   "metadata": {},
   "source": [
    "Функция `lambdify()` позволяет преобразовывать выражения SymPy в обычные функции Python.\n",
    "Однако, если не указать правильный модуль, могут возникнуть ошибки, например:"
   ]
  },
  {
   "cell_type": "code",
   "execution_count": 22,
   "id": "25b0b5f2-b404-4ac6-813b-172c904ea12b",
   "metadata": {},
   "outputs": [
    {
     "ename": "TypeError",
     "evalue": "loop of ufunc does not support argument 0 of type Mul which has no callable sin method",
     "output_type": "error",
     "traceback": [
      "\u001b[0;31m---------------------------------------------------------------------------\u001b[0m",
      "\u001b[0;31mAttributeError\u001b[0m                            Traceback (most recent call last)",
      "\u001b[0;31mAttributeError\u001b[0m: 'Mul' object has no attribute 'sin'",
      "\nThe above exception was the direct cause of the following exception:\n",
      "\u001b[0;31mTypeError\u001b[0m                                 Traceback (most recent call last)",
      "Cell \u001b[0;32mIn[22], line 6\u001b[0m\n\u001b[1;32m      3\u001b[0m x \u001b[38;5;241m=\u001b[39m sp\u001b[38;5;241m.\u001b[39msymbols(\u001b[38;5;124m\"\u001b[39m\u001b[38;5;124mx\u001b[39m\u001b[38;5;124m\"\u001b[39m)\n\u001b[1;32m      4\u001b[0m y \u001b[38;5;241m=\u001b[39m sp\u001b[38;5;241m.\u001b[39mlambdify(x, sp\u001b[38;5;241m.\u001b[39msin(x)) \u001b[38;5;66;03m# По умолчанию использует NumPy\u001b[39;00m\n\u001b[0;32m----> 6\u001b[0m \u001b[38;5;28mprint\u001b[39m(\u001b[43my\u001b[49m\u001b[43m(\u001b[49m\u001b[43msp\u001b[49m\u001b[38;5;241;43m.\u001b[39;49m\u001b[43mpi\u001b[49m\u001b[38;5;241;43m/\u001b[39;49m\u001b[38;5;241;43m6\u001b[39;49m\u001b[43m)\u001b[49m)\n",
      "File \u001b[0;32m<lambdifygenerated-2>:2\u001b[0m, in \u001b[0;36m_lambdifygenerated\u001b[0;34m(x)\u001b[0m\n\u001b[1;32m      1\u001b[0m \u001b[38;5;28;01mdef\u001b[39;00m\u001b[38;5;250m \u001b[39m\u001b[38;5;21m_lambdifygenerated\u001b[39m(x):\n\u001b[0;32m----> 2\u001b[0m     \u001b[38;5;28;01mreturn\u001b[39;00m \u001b[43msin\u001b[49m\u001b[43m(\u001b[49m\u001b[43mx\u001b[49m\u001b[43m)\u001b[49m\n",
      "\u001b[0;31mTypeError\u001b[0m: loop of ufunc does not support argument 0 of type Mul which has no callable sin method"
     ]
    }
   ],
   "source": [
    "import sympy as sp\n",
    "\n",
    "x = sp.symbols(\"x\")\n",
    "y = sp.lambdify(x, sp.sin(x)) # По умолчанию использует NumPy\n",
    "\n",
    "print(y(sp.pi/6))"
   ]
  },
  {
   "cell_type": "markdown",
   "id": "8051ca62-4e6f-426d-8fd1-b56ab6ce1f19",
   "metadata": {},
   "source": [
    "Укажем `modules=\"sympy\"`, чтобы лямбда-функция использовала SymPy для вычислений:"
   ]
  },
  {
   "cell_type": "code",
   "execution_count": 23,
   "id": "8210692c-7214-4841-a170-0c2de6c2f6bc",
   "metadata": {},
   "outputs": [
    {
     "name": "stdout",
     "output_type": "stream",
     "text": [
      "1/2\n"
     ]
    }
   ],
   "source": [
    "y = sp.lambdify(x, sp.sin(x), \"sympy\")\n",
    "print(y(sp.pi/6))"
   ]
  },
  {
   "cell_type": "markdown",
   "id": "a21d6fa2-ff4b-4964-9068-231c1957766b",
   "metadata": {},
   "source": [
    "## Производные"
   ]
  },
  {
   "cell_type": "markdown",
   "id": "b4823dd7-6464-4a4b-843a-660c86eb8b19",
   "metadata": {},
   "source": [
    "В библиотеке присутствует возможности нахождения производных."
   ]
  },
  {
   "cell_type": "code",
   "execution_count": 24,
   "id": "a56c9c3d-3436-4b01-b4b4-0de43fd206f0",
   "metadata": {},
   "outputs": [],
   "source": [
    "import sympy as sp"
   ]
  },
  {
   "cell_type": "code",
   "execution_count": 25,
   "id": "d717d1d6-0bcd-4fff-9bbc-b5db7a1e8c9f",
   "metadata": {},
   "outputs": [],
   "source": [
    "x = sp.symbols(\"x\")\n",
    "f = x**2 + 3*x + 2\n",
    "f_prime = sp.diff(f, x)"
   ]
  },
  {
   "cell_type": "code",
   "execution_count": 26,
   "id": "43e5bfcd-d676-4184-9773-e70d615376f0",
   "metadata": {},
   "outputs": [
    {
     "data": {
      "text/latex": [
       "$\\displaystyle x^{2} + 3 x + 2$"
      ],
      "text/plain": [
       "x**2 + 3*x + 2"
      ]
     },
     "execution_count": 26,
     "metadata": {},
     "output_type": "execute_result"
    }
   ],
   "source": [
    "f"
   ]
  },
  {
   "cell_type": "code",
   "execution_count": 27,
   "id": "f3c27111-da25-4a37-a41a-70989b4cfeff",
   "metadata": {},
   "outputs": [
    {
     "data": {
      "text/latex": [
       "$\\displaystyle 2 x + 3$"
      ],
      "text/plain": [
       "2*x + 3"
      ]
     },
     "execution_count": 27,
     "metadata": {},
     "output_type": "execute_result"
    }
   ],
   "source": [
    "f_prime"
   ]
  },
  {
   "cell_type": "markdown",
   "id": "2dcc85c2-4b7a-407e-b7e8-890769819bb4",
   "metadata": {},
   "source": [
    "Присутствует возможность нахождения частных производных."
   ]
  },
  {
   "cell_type": "code",
   "execution_count": 28,
   "id": "a946020c-0870-4401-a430-59c70f1814f5",
   "metadata": {},
   "outputs": [
    {
     "name": "stdout",
     "output_type": "stream",
     "text": [
      "Частная производная по x: 2*x + 3*y\n",
      "Частная производная по y: 3*x + 2*y\n"
     ]
    }
   ],
   "source": [
    "x, y = sp.symbols(\"x y\")\n",
    "f = sp.lambdify((x, y), x**2 + y**2 + 3*x*y)\n",
    "\n",
    "# Находим частную производную функции по x\n",
    "f_prime_x = sp.diff(f(x, y), x)\n",
    "\n",
    "# Находим частную производную функции по y\n",
    "f_prime_y = sp.diff(f(x, y), y)\n",
    "\n",
    "print(f\"Частная производная по x: {f_prime_x}\")\n",
    "print(f\"Частная производная по y: {f_prime_y}\")"
   ]
  },
  {
   "cell_type": "markdown",
   "id": "d7f3a048-6be3-4243-97c7-6052147d4d66",
   "metadata": {},
   "source": [
    "## Пределы"
   ]
  },
  {
   "cell_type": "markdown",
   "id": "367a2bb5-aacb-488f-8eaf-178996eb40af",
   "metadata": {},
   "source": [
    "### Односторонние и двусторонние пределы"
   ]
  },
  {
   "cell_type": "markdown",
   "id": "56bda34b-5c53-4a0d-8d9e-336056b87503",
   "metadata": {},
   "source": [
    "Для нахожения пределов существует функция `limit()`."
   ]
  },
  {
   "cell_type": "code",
   "execution_count": 29,
   "id": "59ae5a7a-7947-4327-af7b-85c7556debe9",
   "metadata": {},
   "outputs": [
    {
     "name": "stdout",
     "output_type": "stream",
     "text": [
      "2\n"
     ]
    }
   ],
   "source": [
    "from sympy import symbols, limit\n",
    "\n",
    "x = symbols('x')\n",
    "expr = (x**2 - 1) / (x - 1)\n",
    "\n",
    "lim = limit(expr, x, 1) # Двусторонний предел при x -> 1\n",
    "print(lim)"
   ]
  },
  {
   "cell_type": "markdown",
   "id": "3d60ba38-5817-415b-ae06-d512967917d0",
   "metadata": {},
   "source": [
    "Можно находить односторонние пределы, для этого необходимо указать параметр `dir=\"-\"` или `dir=\"+\"`:"
   ]
  },
  {
   "cell_type": "code",
   "execution_count": 30,
   "id": "d45f2313-eca0-4640-b2b6-60792504a2c4",
   "metadata": {},
   "outputs": [],
   "source": [
    "lim_left = limit(expr, x, 1, dir=\"-\")  # Слева (x → 1⁻)\n",
    "lim_right = limit(expr, x, 1, dir=\"+\") # Справа (x → 1⁺)"
   ]
  },
  {
   "cell_type": "markdown",
   "id": "5f4a998d-7849-40ab-a5a6-ab6562bbb401",
   "metadata": {},
   "source": [
    "#### Пределы в бесконечности"
   ]
  },
  {
   "cell_type": "markdown",
   "id": "a48a2430-05a4-49bf-8af0-e550a8202172",
   "metadata": {},
   "source": [
    "Если необходимо оперировать бесконечностями, необходимо подключить `oo`."
   ]
  },
  {
   "cell_type": "code",
   "execution_count": 31,
   "id": "e4ca6e95-1b42-479c-bcfa-93ed62d66558",
   "metadata": {},
   "outputs": [],
   "source": [
    "from sympy import oo"
   ]
  },
  {
   "cell_type": "code",
   "execution_count": 32,
   "id": "c497139b-616d-428e-b882-3708eafe4ae0",
   "metadata": {},
   "outputs": [
    {
     "name": "stdout",
     "output_type": "stream",
     "text": [
      "3/2\n",
      "3/2\n"
     ]
    }
   ],
   "source": [
    "expr = (3*x**2 + x) / (2*x**2 - 5)\n",
    "\n",
    "lim_inf = limit(expr, x, oo) # x → ∞\n",
    "lim_neg_inf = limit(expr, x, -oo) # x → -∞\n",
    "\n",
    "print(lim_inf) # 3/2\n",
    "print(lim_neg_inf) # 3/2"
   ]
  },
  {
   "cell_type": "markdown",
   "id": "97058b33-ab12-47ca-a746-1962a6a77d9e",
   "metadata": {},
   "source": [
    "#### Особые случаи"
   ]
  },
  {
   "cell_type": "markdown",
   "id": "6243c072-d527-4c44-ab48-e035a16a50c9",
   "metadata": {},
   "source": [
    "Пусть существует функция $f(x) = \\dfrac{1}{x}$, которая имеет два предела при $ x \\to 0 $, в зависимости от направления:  \n",
    "\n",
    "- Слева ($x \\to 0^-$): $\\dfrac{1}{x} \\to -\\infty$.  \n",
    "\n",
    "- Справа ($x \\to 0^+$): $\\dfrac{1}{x} \\to +\\infty$.  \n",
    "\n",
    "Так как левосторонний и правосторонний пределы не совпадают, предела в точке $ x = 0 $ не существует."
   ]
  },
  {
   "cell_type": "markdown",
   "id": "90fb1032-667a-4568-9a2a-74cf92a52b87",
   "metadata": {},
   "source": [
    "Если предел не существует, SymPy вернёт $\\infty$, $-\\infty$ или не сможет вычислить."
   ]
  },
  {
   "cell_type": "code",
   "execution_count": 33,
   "id": "c223ca71-e06c-4007-9d19-bc807c7c61c3",
   "metadata": {},
   "outputs": [
    {
     "name": "stdout",
     "output_type": "stream",
     "text": [
      "oo\n",
      "-oo\n",
      "oo\n"
     ]
    }
   ],
   "source": [
    "expr = 1 / x\n",
    "print(limit(expr, x, 0, dir='+'))  # oo\n",
    "print(limit(expr, x, 0, dir='-'))  # -oo\n",
    "print(limit(expr, x, 0))"
   ]
  },
  {
   "cell_type": "markdown",
   "id": "b8072bf6-329c-4a14-84c4-246cbb567bd5",
   "metadata": {},
   "source": [
    "## Интегралы"
   ]
  },
  {
   "cell_type": "markdown",
   "id": "788c0fdb-258f-4707-8b3b-5ae9b86260d0",
   "metadata": {},
   "source": [
    "В SymPy можно вычислять интегралы с помощью функции `integrate()`. Рассмотрим примеры ее использования для вычисления неопределенного и определенного интегралов."
   ]
  },
  {
   "cell_type": "markdown",
   "id": "e2eae2e9-105c-4933-b7df-0b1ccf7361a9",
   "metadata": {},
   "source": [
    "### Неопределенный интеграл"
   ]
  },
  {
   "cell_type": "code",
   "execution_count": 34,
   "id": "5a6a6559-3e63-4d38-b151-6066b3ecb273",
   "metadata": {},
   "outputs": [
    {
     "data": {
      "text/latex": [
       "$\\displaystyle \\frac{x^{3}}{3}$"
      ],
      "text/plain": [
       "x**3/3"
      ]
     },
     "execution_count": 34,
     "metadata": {},
     "output_type": "execute_result"
    }
   ],
   "source": [
    "from sympy import symbols, integrate\n",
    "\n",
    "# Определим переменную\n",
    "x = symbols('x')\n",
    "\n",
    "# Интеграл от x^2\n",
    "integral = integrate(x**2, x)\n",
    "integral"
   ]
  },
  {
   "cell_type": "markdown",
   "id": "15b45039-3f23-4da1-ac64-2ad09d7b98af",
   "metadata": {},
   "source": [
    "### Определенный интеграл"
   ]
  },
  {
   "cell_type": "markdown",
   "id": "e9f71c0d-e2b8-4342-bd52-aec5af4d3b1e",
   "metadata": {},
   "source": [
    "Определенный интеграл от $x^2$ на интервале $[0, 1]$:"
   ]
  },
  {
   "cell_type": "code",
   "execution_count": 35,
   "id": "735c245c-2295-4eba-b0f2-feb2213d43f7",
   "metadata": {},
   "outputs": [
    {
     "name": "stdout",
     "output_type": "stream",
     "text": [
      "1/3\n"
     ]
    }
   ],
   "source": [
    "integral_definite = integrate(x**2, (x, 0, 1))\n",
    "print(integral_definite)"
   ]
  },
  {
   "cell_type": "markdown",
   "id": "4fb9c1ae-e22b-482d-b3e5-9edd240c8f56",
   "metadata": {},
   "source": [
    "## Уравнения и неравенства"
   ]
  },
  {
   "cell_type": "markdown",
   "id": "d1a58842-023a-414e-8bcb-211d39927fcd",
   "metadata": {},
   "source": [
    "### Уравнения"
   ]
  },
  {
   "cell_type": "markdown",
   "id": "9bb33c80-16ce-499b-8c7e-1e0418d2bad3",
   "metadata": {},
   "source": [
    "Уравнения в SymPy задаются с использованием функции `Eq()`. Рассмотрим пример."
   ]
  },
  {
   "cell_type": "code",
   "execution_count": 36,
   "id": "c67b948f-e1c2-49c7-8fbc-54f2cc1201c9",
   "metadata": {},
   "outputs": [
    {
     "data": {
      "text/latex": [
       "$\\displaystyle 2 x + 3 = 7$"
      ],
      "text/plain": [
       "Eq(2*x + 3, 7)"
      ]
     },
     "execution_count": 36,
     "metadata": {},
     "output_type": "execute_result"
    }
   ],
   "source": [
    "from sympy import symbols, Eq\n",
    "\n",
    "x, y = symbols(\"x y\")\n",
    "eq = Eq(2*x + 3, 7)\n",
    "eq"
   ]
  },
  {
   "cell_type": "markdown",
   "id": "f435f2d7-cdab-43a5-ac74-a8a406cda111",
   "metadata": {},
   "source": [
    "Для решения уравнений есть функции `solve()`, `nsolve()`, `dsolve()`."
   ]
  },
  {
   "cell_type": "code",
   "execution_count": 37,
   "id": "421c16f5-228a-43a5-ba4a-d874b8c161dc",
   "metadata": {},
   "outputs": [
    {
     "data": {
      "text/plain": [
       "[2]"
      ]
     },
     "execution_count": 37,
     "metadata": {},
     "output_type": "execute_result"
    }
   ],
   "source": [
    "from sympy import solve\n",
    "solved_eq = solve(eq, x)\n",
    "solved_eq"
   ]
  },
  {
   "cell_type": "markdown",
   "id": "4b573d29-1205-46d7-83fc-ae29cea3c1b2",
   "metadata": {},
   "source": [
    "### Неравенства"
   ]
  },
  {
   "cell_type": "markdown",
   "id": "adae7f18-fc6e-495b-a512-214a7b226b0e",
   "metadata": {},
   "source": [
    "Для неравенства используем функции\n",
    "- `Gt()` ($>$),\n",
    "- `Ge()` ($\\geqslant$),\n",
    "- `Lt()` ($<$),\n",
    "- `Le()` ($\\leqslant$)."
   ]
  },
  {
   "cell_type": "code",
   "execution_count": 38,
   "id": "4c898337-3414-443f-9ab4-0c7f01a1c92d",
   "metadata": {},
   "outputs": [
    {
     "data": {
      "text/latex": [
       "$\\displaystyle \\left(-\\infty < x \\wedge x < -2\\right) \\vee \\left(2 < x \\wedge x < \\infty\\right)$"
      ],
      "text/plain": [
       "((-oo < x) & (x < -2)) | ((2 < x) & (x < oo))"
      ]
     },
     "execution_count": 38,
     "metadata": {},
     "output_type": "execute_result"
    }
   ],
   "source": [
    "x = sp.symbols(\"x\")\n",
    "\n",
    "# Определяем неравенство\n",
    "inequality = sp.Gt(x**2 - 4, 0) # x^2 - 4 > 0\n",
    "\n",
    "# Решаем неравенство\n",
    "solution = sp.solve(inequality, x)\n",
    "(solution)"
   ]
  },
  {
   "cell_type": "markdown",
   "id": "35eb17cd-8940-4ca8-b2eb-0b99704fac73",
   "metadata": {},
   "source": [
    "### Дифференциальные уравнения"
   ]
  },
  {
   "cell_type": "code",
   "execution_count": 39,
   "id": "a167f757-2eb9-482d-b471-e4f2fd38ceea",
   "metadata": {},
   "outputs": [
    {
     "name": "stdout",
     "output_type": "stream",
     "text": [
      "Eq(y(x), C1*exp(x))\n"
     ]
    }
   ],
   "source": [
    "x = sp.symbols(\"x\")\n",
    "y = sp.Function(\"y\")(x)\n",
    "\n",
    "diff_eq = sp.Eq(y.diff(x), y)\n",
    "solution = sp.dsolve(diff_eq)\n",
    "\n",
    "print(solution)"
   ]
  },
  {
   "cell_type": "markdown",
   "id": "0effb8fc-fe00-4a42-8c29-f14b4dcd02e8",
   "metadata": {},
   "source": [
    "#### Задача Коши"
   ]
  },
  {
   "cell_type": "markdown",
   "id": "9e22024d-50a3-4acf-a088-1eea93eb6679",
   "metadata": {},
   "source": [
    "Пусть задано начальное услови $y(0)=1$, тогда"
   ]
  },
  {
   "cell_type": "code",
   "execution_count": 40,
   "id": "1b373ffd-eaba-42ab-a394-aaa20645810a",
   "metadata": {},
   "outputs": [
    {
     "name": "stdout",
     "output_type": "stream",
     "text": [
      "Eq(y(x), exp(x))\n"
     ]
    }
   ],
   "source": [
    "solution_with_condition = sp.dsolve(diff_eq, ics={y.subs(x, 0): 1})\n",
    "\n",
    "# Выводим решение с учётом начального условия\n",
    "print(solution_with_condition)"
   ]
  },
  {
   "cell_type": "markdown",
   "id": "bbeb2887-c3c9-4b2b-9a58-bf375ba05058",
   "metadata": {},
   "source": [
    "### Общие сведения"
   ]
  },
  {
   "cell_type": "markdown",
   "id": "8b5b930d-879c-4afa-b4f4-e1f3252e899f",
   "metadata": {},
   "source": [
    "В Maple, для выражения переменных, мы использовали функцию `isolate()`, которая позволяла изолировать переменную в уравнении."
   ]
  },
  {
   "cell_type": "markdown",
   "id": "6c04184a-b5af-47f0-9141-5b04f9b8408f",
   "metadata": {},
   "source": [
    "Можно получить левую и правую части уравнения с помощью .lhs и .rhs:"
   ]
  },
  {
   "cell_type": "code",
   "execution_count": 41,
   "id": "2bee9a62-6d26-44e1-a29c-67d4d8efa908",
   "metadata": {},
   "outputs": [
    {
     "name": "stdout",
     "output_type": "stream",
     "text": [
      "2*d + x\n",
      "x**2 + 5\n"
     ]
    }
   ],
   "source": [
    "from sympy import symbols, Eq, isolate\n",
    "\n",
    "x, d = symbols(\"x d\")\n",
    "eq = Eq(x + 2*d, 5 + x**2)\n",
    "\n",
    "left = eq.lhs   # Левая часть уравнения\n",
    "right = eq.rhs  # Правая часть уравнения\n",
    "\n",
    "print(left)\n",
    "print(right)"
   ]
  },
  {
   "cell_type": "markdown",
   "id": "944db0ce-bbcd-402d-86cb-f3c1f7d404d6",
   "metadata": {},
   "source": [
    "## Графики функций"
   ]
  },
  {
   "cell_type": "markdown",
   "id": "f3c0f4fd-7044-4737-8d0f-1167bc9a1205",
   "metadata": {},
   "source": [
    "Есть несколько способов построения графиков функций.\n",
    "Два популярных варианта SymPy и Matplotlib (более гибкая визуализация).\n",
    "Matplotlib работает в связке с библиотекой NumPy.\n",
    "Сейчас рассмотрим возможность построения графика в библиотеке SymPy."
   ]
  },
  {
   "cell_type": "markdown",
   "id": "96531059-4173-4114-8de8-2cdb6ae8e0ec",
   "metadata": {},
   "source": [
    "Подробнее с возможностями библиотеки можно ознакомиться, например, по [ссылке](https://sympy-plot-backends.readthedocs.io/en/latest/tutorials/tut-5.html)."
   ]
  },
  {
   "cell_type": "code",
   "execution_count": 42,
   "id": "addc980c-35ba-4c92-9f9a-7fe1a4835b3c",
   "metadata": {},
   "outputs": [
    {
     "data": {
      "image/png": "[encoded data removed]",
      "text/plain": [
       "<Figure size 640x480 with 1 Axes>"
      ]
     },
     "metadata": {},
     "output_type": "display_data"
    }
   ],
   "source": [
    "from sympy import symbols, cos, plot\n",
    "from sympy.plotting import plot as sympy_plot\n",
    "\n",
    "x = symbols(\"x\")\n",
    "\n",
    "# Функция косинуса и его аппроксимация Тейлора (до x^4, так как cos(x) — чётная функция)\n",
    "y_cos = cos(x)\n",
    "y_poly = 1 - x**2 / 2 + x**4 / 24 # Разложение Тейлора для cos(x) около 0\n",
    "\n",
    "# Построение графиков\n",
    "p = plot(\n",
    "    y_cos, y_poly,\n",
    "    (x, -2 * 3.1416, 2 * 3.1416),\n",
    "    ylim = (-1.5, 1.5),\n",
    "    title = \"Сравнение cos(x) и его полиномиальной аппроксимации\",\n",
    "    xlabel = \"x\",\n",
    "    ylabel = \"y\",\n",
    "    legend = True,\n",
    "    show = False,\n",
    ")\n",
    "\n",
    "p[0].line_color = \"blue\"\n",
    "p[0].label = \"y = cos(x)\"\n",
    "\n",
    "p[1].line_color = \"red\"\n",
    "p[1].label = \"y = 1 - (x^2)/2 + (x^4)/24\"\n",
    "\n",
    "p.show()"
   ]
  },
  {
   "cell_type": "markdown",
   "id": "a24a0132-b0f8-49c5-ad0f-d1e77c382e95",
   "metadata": {},
   "source": [
    "Может возникнуть следующая ошибка. Например, что-то вроде этого:"
   ]
  },
  {
   "cell_type": "markdown",
   "id": "0549ac93-904f-4c01-8162-9fc4276bc15e",
   "metadata": {},
   "source": [
    "```\n",
    "---------------------------------------------------------------------------\n",
    "ValueError                                Traceback (most recent call last)\n",
    "Cell In[20], line 17\n",
    "     14 p[1].line_color = \"red\"\n",
    "     15 p[1].label = \"y = x - x^3/6 + x^5/120\"\n",
    "---> 17 p.show()\n",
    "\n",
    "File ~\\AppData\\Local\\Packages\\PythonSoftwareFoundation.Python.3.13_qbz5n2kfra8p0\\LocalCache\\local-packages\\Python313\\site-packages\\sympy\\plotting\\backends\\textbackend\\text.py:14, in TextBackend.show(self)\n",
    "     12     return\n",
    "     13 if len(self._series) != 1:\n",
    "---> 14     raise ValueError(\n",
    "     15         'The TextBackend supports only one graph per Plot.')\n",
    "     16 elif not isinstance(self._series[0], LineOver1DRangeSeries):\n",
    "     17     raise ValueError(\n",
    "     18         'The TextBackend supports only expressions over a 1D range')\n",
    "\n",
    "ValueError: The TextBackend supports only one graph per Plot.\n",
    "```"
   ]
  },
  {
   "cell_type": "markdown",
   "id": "72ba1e6e-17bc-4aec-b6f7-dc659d5592b0",
   "metadata": {},
   "source": [
    "Ошибка возникает из-за того, что в данном примере используется _TextBackend_, который поддерживает только один график на один вызов функции `plot()`. Это может происходить, если SymPy не может найти установленный графический бэкенд, например, **Matplotlib**. В последующей работе будут подробно рассмотрены возможности этой библиотеки. Сейчас для корректной работы `plot()` из SymPy **Matplotlib** можно установить, например, с помощью пакетного менеджера **pip**: "
   ]
  },
  {
   "cell_type": "markdown",
   "id": "fdfcb33b-4ea7-45e9-97f1-922a04b9cd85",
   "metadata": {},
   "source": [
    "```shell\n",
    "python -m pip install matplotlib\n",
    "```"
   ]
  },
  {
   "cell_type": "markdown",
   "id": "e17f3832-ebcd-49d6-bb1e-f6796faf3980",
   "metadata": {},
   "source": [
    "## Задания"
   ]
  },
  {
   "cell_type": "markdown",
   "id": "d81a57dc-65ab-4cac-885b-dca396de5cc1",
   "metadata": {},
   "source": [
    "1. Задать выражение\n",
    "$$3-5\\left(\\frac{1}{2}-1\\right)+0.3-x+y^2+\\frac{x+2}{1+10^{-2}},$$\n",
    "вывести его на экран. Выражение не упрощать."
   ]
  },
  {
   "cell_type": "markdown",
   "id": "3114e98e-db7b-4eb4-9cb8-3a443bc925e8",
   "metadata": {},
   "source": [
    "2. Конвертировать выражение в $\\LaTeX$. Отобразить результат в Markdown."
   ]
  },
  {
   "cell_type": "markdown",
   "id": "9efae8eb-b37f-4ea8-9d94-01a8a280cf90",
   "metadata": {},
   "source": [
    "3. Задать произвольные значения переменным $х$ и $у$ и пересчитать выражение, вывести полученное значение на экран."
   ]
  },
  {
   "cell_type": "markdown",
   "id": "7288197f-349a-493f-9e76-fefe4fa05d1c",
   "metadata": {},
   "source": [
    "4. Упростить выражение\n",
    "$$\\left(\\frac{2a}{2a+b}-\\frac{4a^2}{4a^2+4ab+b^2}\\right)\\cdot\\left(\\frac{2a}{4a^2-b^2}+\\frac{1}{b-2a}\\right)^{-1}+\\frac{8a^2}{2a+b}.$$\n"
   ]
  },
  {
   "cell_type": "markdown",
   "id": "a930a1e0-f47f-4499-8226-6d5cac00a961",
   "metadata": {},
   "source": [
    "5. Раскрыть скобки в выражениях\n",
    "   $\\dfrac{\\left(x+1\\right)^3}{\\left(x+2\\right)^2},$\n",
    "   $\\sin(x+y).$"
   ]
  },
  {
   "cell_type": "markdown",
   "id": "3a64dd75-dc29-4fc4-9dfa-8e14b91888b4",
   "metadata": {},
   "source": [
    "6. Задать два вещественных числа $a$, $b$. Оперируя символьными выражениями, последовательно вычислить:\n",
    "$$x=\\frac{e^{-|a|^{1.2}}+\\sin\\left(a^4-b\\right)}{ab},$$\n",
    "$$y=\\frac{\\cos\\left(a^4-b\\right)+\\arctan(a)}{b+x},$$\n",
    "$$z=\\frac{\\sqrt{\\arctan^2{x}+1}}{\\left(1+x^2\\right)^\\frac{3}{2}}.$$\n",
    "\n",
    "Результат вывести в консоль."
   ]
  },
  {
   "cell_type": "markdown",
   "id": "1022c113-f378-4c25-9397-e561ede028b0",
   "metadata": {},
   "source": [
    "7. Задать две функции, зависящие от $x$:\n",
    "$$y\\left(x\\right)=\\sin\\left(x\\right),$$\n",
    "$$y\\left(x\\right)=x-\\frac{x^3}{6}+\\frac{x^5}{120}$$.\n",
    "\n",
    "Вычислить их значения в точках $x=0$, $x=\\dfrac{\\pi}{6}$, $x=\\dfrac{\\pi}{4}$, $x=\\dfrac{\\pi}{2}$."
   ]
  },
  {
   "cell_type": "markdown",
   "id": "e46965e1-3caf-4c86-a0b2-2c84bab67a88",
   "metadata": {},
   "source": [
    "8. Построить графики функций из задания 7. Графики построить отдельно и оба на одних осях."
   ]
  },
  {
   "cell_type": "markdown",
   "id": "36e45442-92c7-4b30-b8e9-633e5389e87c",
   "metadata": {},
   "source": [
    "9. Заданы уравнения двух пересекающихся прямых на плоскости:\n",
    "$$y=k_1 x+b_1,$$\n",
    "$$y=k_2 x+b_2.$$\n",
    "Найти угол между ними, используя формулу\n",
    "$$\\tan(\\varphi)=\\frac{k_2-k_1}{1+k_1 k_2}.$$\n",
    "Выразить $\\varphi$ и перевести в градусы."
   ]
  },
  {
   "cell_type": "markdown",
   "id": "b757d64a-d12b-4f5f-9190-d3c076429d92",
   "metadata": {},
   "source": [
    "10. Найти решение уравнения:\n",
    "$$x^3-9x^2+23x-15=0.$$\n",
    "Подставить найденные корни в уравнение и убедиться, что получается верное равенство.\n",
    "Проверить корни графически: построить график левой части уравнения."
   ]
  },
  {
   "cell_type": "markdown",
   "id": "25903ce5-d188-4dfa-93e8-7152f1da3e7e",
   "metadata": {},
   "source": [
    "11. Найти максимальное и минимальное значение левой части уравнения из задания 10 на интервале $[1, 5]$."
   ]
  },
  {
   "cell_type": "markdown",
   "id": "5f785412-f0a0-4a90-b6fa-4dc5972d7a02",
   "metadata": {},
   "source": [
    "12. Решить уравнение $x=\\cos(x)$.\n",
    "Сначала графически, потом численно."
   ]
  },
  {
   "cell_type": "markdown",
   "id": "20a1ee26-ecb1-4299-9b2a-159f68e3548e",
   "metadata": {},
   "source": [
    "13. Решить систему двух уравнений\n",
    "$$\\left\\{\\begin{matrix}\n",
    "2x+y=3,\\\\\n",
    "4x+3y=7.\n",
    "\\end{matrix}\\right.$$\n",
    "Найти корни и проверить их графически."
   ]
  },
  {
   "cell_type": "markdown",
   "id": "c3574ebd-9dbc-4e2e-9b25-b1b25b1c3b21",
   "metadata": {},
   "source": [
    "14. Решить неравенство\n",
    "$$\\frac{3(x+4)}{x^2+2}<5+x-x^2.$$"
   ]
  },
  {
   "cell_type": "markdown",
   "id": "0635aa8f-97d1-4ff0-a45b-1f1c05ea1c32",
   "metadata": {},
   "source": [
    "15. Вычислить пределы\n",
    "$$\\lim_{x\\rightarrow\\infty}\\left(\\frac{x^2-x}{x+5}-\\frac{x^3+2x}{x^2-3}\\right),\\quad \\lim_{x\\rightarrow\\infty}\\left(1+\\frac{x-3}{x^2+4}\\right)^{x},\\quad \\lim_{x\\rightarrow 1}\\frac{\\sin{\\pi x}}{\\ln{x}}.$$"
   ]
  },
  {
   "cell_type": "markdown",
   "id": "d72685a4-5363-4063-8f84-6a9b5b6a8c4a",
   "metadata": {},
   "source": [
    "16. Задать произвольную функцию $z$ от двух переменных $х$ и $у$. Найти ее производные:\n",
    "- по $х$, по $у$, по $х$ и $у$;\n",
    "- найти любую третью производную;\n",
    "- найти производную высокого порядка."
   ]
  },
  {
   "cell_type": "markdown",
   "id": "0f87003d-d2e7-49ef-89ab-8ff128d10b4b",
   "metadata": {},
   "source": [
    "17. Взять неопределенные интегралы\n",
    "$$\\int\\frac{\\ln x}{x\\sqrt{1+\\ln x}}dx,\\quad \\int\\frac{dx}{3\\sin^2{x}-8\\sin{x}\\cos{x}+5\\cos^2{x}}.$$"
   ]
  },
  {
   "cell_type": "markdown",
   "id": "b4990c9b-0a22-4c18-909a-09b7ceac3ecd",
   "metadata": {},
   "source": [
    "18. Взять определенные интегралы\n",
    "$$\\int_{0}^{2\\pi}\\frac{dx}{(2+\\cos x)(3+\\cos x)}dx,\\quad \\int_0^{\\infty}\\frac{\\arctan x}{\\left(1+x^2\\right)^{\\frac{3}{2}}}dx.$$"
   ]
  }
 ],
 "metadata": {
  "kernelspec": {
   "display_name": "Python 3 (ipykernel)",
   "language": "python",
   "name": "python3"
  },
  "language_info": {
   "codemirror_mode": {
    "name": "ipython",
    "version": 3
   },
   "file_extension": ".py",
   "mimetype": "text/x-python",
   "name": "python",
   "nbconvert_exporter": "python",
   "pygments_lexer": "ipython3",
   "version": "3.13.2"
  }
 },
 "nbformat": 4,
 "nbformat_minor": 5
}
