{
 "cells": [
  {
   "cell_type": "markdown",
   "id": "ce1fb0ce-8ea3-469a-b915-cfb3e040afac",
   "metadata": {},
   "source": [
    "# Тема #3. Общие сведения про NumPy"
   ]
  },
  {
   "cell_type": "markdown",
   "id": "4fb0f67c-b52b-44ee-89ee-dc702f6a34f3",
   "metadata": {},
   "source": [
    "## Предисловие"
   ]
  },
  {
   "cell_type": "markdown",
   "id": "aa4916ba-690f-404b-8c22-c66099b20e28",
   "metadata": {},
   "source": [
    "**NumPy** (сокращенно от Numerical Python) — библиотека с открытым исходным кодом для языка Python. Возможности:\n",
    "- поддержка многомерных массивов (включая матрицы);\n",
    "- поддержка высокоуровневых математических функций, предназначенных для работы с многомерными массивами;\n",
    "- различные численные методы;\n",
    "- инструменты для статистического моделирования."
   ]
  },
  {
   "cell_type": "markdown",
   "id": "bac7ad11-8ee6-4a58-935b-f665aff267cc",
   "metadata": {},
   "source": [
    "Инсперированно с [источника](https://numpy.org/devdocs/user/quickstart.html)."
   ]
  },
  {
   "cell_type": "markdown",
   "id": "dc92217b-24be-4d06-b4d9-975866192da8",
   "metadata": {},
   "source": [
    "Полезные ссылки:\n",
    "- Официальные пользовательские [гайды](https://numpy.org/devdocs/user/index.html).\n",
    "- Официальная [документация](https://numpy.org/doc/).\n",
    "- Для более подробного изучения **NumPy** рекомендуется использовать подборку упражнений [100 NumPy exercises](https://www.kaggle.com/code/utsav15/100-numpy-exercises)."
   ]
  },
  {
   "cell_type": "markdown",
   "id": "1819e250-c8ac-474a-9191-a963c26ffaa4",
   "metadata": {},
   "source": [
    "## База"
   ]
  },
  {
   "cell_type": "markdown",
   "id": "bc4067a6-6c0a-4cd9-ac94-6a92e0c65dfd",
   "metadata": {},
   "source": [
    "Основной объект NumPy — однородный многомерный массив. Это таблица элементов (обычно чисел), все одного типа, индексированная кортежем неотрицательных целых чисел. В NumPy измерения называются осями.\n",
    "\n",
    "Например, массив для координат точки в трехмерном пространстве $[1, 2, 1]$ имеет одну ось. Эта ось имеет 3 элемента, поэтому мы говорим, что она имеет длину $3$. В примере, изображенном ниже, массив имеет 2 оси. Первая ось имеет длину 2, вторая ось имеет длину 3."
   ]
  },
  {
   "cell_type": "code",
   "execution_count": 1,
   "id": "ac8d15a6-0d05-4a26-92fa-6a210e0587f5",
   "metadata": {},
   "outputs": [
    {
     "data": {
      "text/plain": [
       "[[1.0, 0.0, 0.0], [0.0, 1.0, 2.0]]"
      ]
     },
     "execution_count": 1,
     "metadata": {},
     "output_type": "execute_result"
    }
   ],
   "source": [
    "[[1., 0., 0.],\n",
    " [0., 1., 2.]]"
   ]
  },
  {
   "cell_type": "markdown",
   "id": "173b189a-d06e-4d21-bf58-ba60b349b94d",
   "metadata": {},
   "source": [
    "Класс массива NumPy называется `ndarray`. Он также известен под псевдонимом `array`. Обратите внимание, что `numpy.array` — это не то же самое, что класс `array.array` из **стандартной библиотеки Python**, который обрабатывает только одномерные массивы и предлагает меньше функциональности. Более важными атрибутами объекта `ndarray` являются:"
   ]
  },
  {
   "cell_type": "markdown",
   "id": "daec0e07-4843-4681-a8eb-efc3c355b74d",
   "metadata": {},
   "source": [
    "- **ndarray.ndim** — количество осей (измерений) массива.\n",
    "- **ndarray.shape** — измерения массива. Это кортеж целых чисел, указывающий размер массива в каждом измерении. Для матрицы с n строками и m столбцами shape будет (n,m). Длина кортежа shape, таким образом, равна количеству осей, ndim.\n",
    "- **ndarray.size** — общее количество элементов массива. Это равно произведению элементов shape.\n",
    "- **ndarray.dtype** — объект, описывающий тип элементов в массиве. Можно создать или указать dtype, используя стандартные типы Python. Кроме того, NumPy предоставляет собственные типы. numpy.int32, numpy.int16 и numpy.float64 — вот некоторые примеры.\n",
    "- **ndarray.itemsize** — размер в байтах каждого элемента массива. Например, массив элементов типа float64 имеет itemsize 8 (=64/8), а массив элементов типа complex32 имеет itemsize 4 (=32/8). Это эквивалентно ndarray.dtype.itemsize.\n",
    "- **ndarray.data** — буфер, содержащий фактические элементы массива. Обычно нам не нужно использовать этот атрибут, поскольку мы будем получать доступ к элементам в массиве с помощью индексных средств."
   ]
  },
  {
   "cell_type": "markdown",
   "id": "110a1f85-3c36-4542-a0af-810917496082",
   "metadata": {},
   "source": [
    "### Пример 1"
   ]
  },
  {
   "cell_type": "code",
   "execution_count": 2,
   "id": "97db128b-1987-4979-b019-b6ef74d15876",
   "metadata": {},
   "outputs": [
    {
     "data": {
      "text/plain": [
       "array([[ 0,  1,  2,  3,  4],\n",
       "       [ 5,  6,  7,  8,  9],\n",
       "       [10, 11, 12, 13, 14]])"
      ]
     },
     "execution_count": 2,
     "metadata": {},
     "output_type": "execute_result"
    }
   ],
   "source": [
    "import numpy as np\n",
    "a = np.arange(15).reshape(3, 5)\n",
    "a"
   ]
  },
  {
   "cell_type": "code",
   "execution_count": 3,
   "id": "11469013-ba97-4477-87d1-9c0bc19b96c9",
   "metadata": {},
   "outputs": [
    {
     "data": {
      "text/plain": [
       "(3, 5)"
      ]
     },
     "execution_count": 3,
     "metadata": {},
     "output_type": "execute_result"
    }
   ],
   "source": [
    "a.shape"
   ]
  },
  {
   "cell_type": "code",
   "execution_count": 4,
   "id": "fda586b3-46a7-4e99-b18b-f0502eabb183",
   "metadata": {},
   "outputs": [
    {
     "data": {
      "text/plain": [
       "2"
      ]
     },
     "execution_count": 4,
     "metadata": {},
     "output_type": "execute_result"
    }
   ],
   "source": [
    "a.ndim"
   ]
  },
  {
   "cell_type": "code",
   "execution_count": 5,
   "id": "af0fce42-a671-46f7-a18e-3b11f26e776c",
   "metadata": {},
   "outputs": [
    {
     "data": {
      "text/plain": [
       "'int64'"
      ]
     },
     "execution_count": 5,
     "metadata": {},
     "output_type": "execute_result"
    }
   ],
   "source": [
    "a.dtype.name"
   ]
  },
  {
   "cell_type": "code",
   "execution_count": 6,
   "id": "443b4b2a-8f3d-4b5c-ad82-8c144b605512",
   "metadata": {},
   "outputs": [
    {
     "data": {
      "text/plain": [
       "8"
      ]
     },
     "execution_count": 6,
     "metadata": {},
     "output_type": "execute_result"
    }
   ],
   "source": [
    "a.itemsize"
   ]
  },
  {
   "cell_type": "code",
   "execution_count": 7,
   "id": "acc76c66-24e6-4c40-919a-923b280f8c36",
   "metadata": {},
   "outputs": [
    {
     "data": {
      "text/plain": [
       "15"
      ]
     },
     "execution_count": 7,
     "metadata": {},
     "output_type": "execute_result"
    }
   ],
   "source": [
    "a.size"
   ]
  },
  {
   "cell_type": "code",
   "execution_count": 8,
   "id": "223d1d1c-31c4-4b3b-bfa0-dc934638fced",
   "metadata": {},
   "outputs": [
    {
     "data": {
      "text/plain": [
       "numpy.ndarray"
      ]
     },
     "execution_count": 8,
     "metadata": {},
     "output_type": "execute_result"
    }
   ],
   "source": [
    "type(a)"
   ]
  },
  {
   "cell_type": "code",
   "execution_count": 9,
   "id": "9527b9b7-019b-4ac3-ac09-8d8c86c1d1dd",
   "metadata": {},
   "outputs": [
    {
     "data": {
      "text/plain": [
       "array([6, 7, 8])"
      ]
     },
     "execution_count": 9,
     "metadata": {},
     "output_type": "execute_result"
    }
   ],
   "source": [
    "b = np.array([6, 7, 8])\n",
    "b"
   ]
  },
  {
   "cell_type": "code",
   "execution_count": 10,
   "id": "b18605d0-9515-4232-9495-74494fa34e1e",
   "metadata": {},
   "outputs": [
    {
     "data": {
      "text/plain": [
       "numpy.ndarray"
      ]
     },
     "execution_count": 10,
     "metadata": {},
     "output_type": "execute_result"
    }
   ],
   "source": [
    "type(b)"
   ]
  },
  {
   "cell_type": "markdown",
   "id": "3e1bccbe-0846-476e-9488-3d2d4310e4fd",
   "metadata": {},
   "source": [
    "### Пример 2"
   ]
  },
  {
   "cell_type": "markdown",
   "id": "1b6bfb6d-ea5c-4874-b175-01cf5d3a86c3",
   "metadata": {},
   "source": [
    "`numpy.array()` — это функция, которая создает объект `numpy.ndarray`. То есть `numpy.ndarray` — это сам класс, а `numpy.array()` — это удобный конструктор для его создания."
   ]
  },
  {
   "cell_type": "code",
   "execution_count": 11,
   "id": "e2fe9b43-bae2-4433-ab10-84e813d5a6ae",
   "metadata": {},
   "outputs": [
    {
     "name": "stdout",
     "output_type": "stream",
     "text": [
      "<class 'numpy.ndarray'>\n",
      "<class 'numpy.ndarray'>\n"
     ]
    }
   ],
   "source": [
    "import numpy as np\n",
    "\n",
    "a = np.array([1, 2, 3])\n",
    "b = np.ndarray((3,), buffer=np.array([1, 2, 3]))\n",
    "\n",
    "print(type(a))\n",
    "print(type(b))"
   ]
  },
  {
   "cell_type": "markdown",
   "id": "eec11bb0-c2ef-49d0-8489-a4382abae451",
   "metadata": {},
   "source": [
    "### Создание массивов"
   ]
  },
  {
   "cell_type": "markdown",
   "id": "5b9cfe01-4e36-4882-b16c-d025191b1840",
   "metadata": {},
   "source": [
    "Существует несколько способов создания массивов.\n",
    "\n",
    "Например, вы можете создать массив из обычного списка или кортежа Python с помощью функции `array`. Тип результирующего массива выводится из типа элементов в последовательностях."
   ]
  },
  {
   "cell_type": "code",
   "execution_count": 12,
   "id": "b7ec663c-055e-4b7c-b848-2e6fd11c4db5",
   "metadata": {},
   "outputs": [
    {
     "name": "stdout",
     "output_type": "stream",
     "text": [
      "[2 3 4]\n",
      "int64\n"
     ]
    }
   ],
   "source": [
    "import numpy as np\n",
    "a = np.array([2, 3, 4])\n",
    "print(a)\n",
    "print(a.dtype)"
   ]
  },
  {
   "cell_type": "code",
   "execution_count": 13,
   "id": "4f55f7fe-373b-48f0-bc32-34158a204ec2",
   "metadata": {},
   "outputs": [
    {
     "name": "stdout",
     "output_type": "stream",
     "text": [
      "[2.2 3.1 4.6]\n",
      "float64\n"
     ]
    }
   ],
   "source": [
    "import numpy as np\n",
    "a = np.array([2.2, 3.1, 4.6])\n",
    "print(a)\n",
    "print(a.dtype)"
   ]
  },
  {
   "cell_type": "markdown",
   "id": "80e7236c-fdc2-4552-af88-d8c8d1540ce6",
   "metadata": {},
   "source": [
    "Функция `array()` преобразует последовательности последовательностей в двумерные массивы, последовательности последовательностей последовательностей в трехмерные массивы и т. д."
   ]
  },
  {
   "cell_type": "code",
   "execution_count": 14,
   "id": "03c13301-6e88-4281-90b5-0d75a54aea32",
   "metadata": {},
   "outputs": [
    {
     "data": {
      "text/plain": [
       "array([[1.5, 2. , 3. ],\n",
       "       [4. , 5. , 6. ]])"
      ]
     },
     "execution_count": 14,
     "metadata": {},
     "output_type": "execute_result"
    }
   ],
   "source": [
    "b = np.array([(1.5, 2, 3), (4, 5, 6)])\n",
    "b"
   ]
  },
  {
   "cell_type": "markdown",
   "id": "24529baf-856e-472b-aa3c-4e1d44045b4c",
   "metadata": {},
   "source": [
    "Тип массива также можно явно указать во время создания:"
   ]
  },
  {
   "cell_type": "code",
   "execution_count": 15,
   "id": "e2e63241-754b-4c8f-8222-f9c7591ecdd3",
   "metadata": {},
   "outputs": [
    {
     "data": {
      "text/plain": [
       "array([[1.+0.j, 2.+0.j],\n",
       "       [3.+0.j, 4.+0.j]])"
      ]
     },
     "execution_count": 15,
     "metadata": {},
     "output_type": "execute_result"
    }
   ],
   "source": [
    "c = np.array([[1, 2], [3, 4]], dtype=complex)\n",
    "c"
   ]
  },
  {
   "cell_type": "markdown",
   "id": "62eaa06e-6b1a-48f2-8b7a-3ed81c55e790",
   "metadata": {},
   "source": [
    "Часто элементы массива изначально неизвестны, но известен его размер. Поэтому NumPy предлагает несколько функций для создания массивов с начальным содержимым-заполнителем. Они минимизируют необходимость в увеличении массивов, что является дорогостоящей операцией.\n",
    "\n",
    "Функция `zeros` создает массив, полный нулей, функция `ones` создает массив, полный единиц, а функция `empty` создает массив, начальное содержимое которого является случайным и зависит от состояния памяти. По умолчанию `dtype` созданного массива — `float64`, но его можно указать с помощью ключевого слова-аргумента `dtype`."
   ]
  },
  {
   "cell_type": "code",
   "execution_count": 16,
   "id": "0a854501-17c7-4a75-92cc-25dfbcb440ff",
   "metadata": {},
   "outputs": [
    {
     "data": {
      "text/plain": [
       "array([[0., 0., 0., 0.],\n",
       "       [0., 0., 0., 0.],\n",
       "       [0., 0., 0., 0.]])"
      ]
     },
     "execution_count": 16,
     "metadata": {},
     "output_type": "execute_result"
    }
   ],
   "source": [
    "np.zeros((3, 4))"
   ]
  },
  {
   "cell_type": "code",
   "execution_count": 17,
   "id": "bb101e51-5050-47a5-bdbe-5a3b8e36a615",
   "metadata": {},
   "outputs": [
    {
     "data": {
      "text/plain": [
       "array([[[1, 1, 1, 1],\n",
       "        [1, 1, 1, 1],\n",
       "        [1, 1, 1, 1]],\n",
       "\n",
       "       [[1, 1, 1, 1],\n",
       "        [1, 1, 1, 1],\n",
       "        [1, 1, 1, 1]]], dtype=int16)"
      ]
     },
     "execution_count": 17,
     "metadata": {},
     "output_type": "execute_result"
    }
   ],
   "source": [
    "np.ones((2, 3, 4), dtype=np.int16)"
   ]
  },
  {
   "cell_type": "code",
   "execution_count": 18,
   "id": "6fdf31ff-0761-480e-b267-25219acc5e8b",
   "metadata": {},
   "outputs": [
    {
     "data": {
      "text/plain": [
       "array([[1.5, 2. , 3. ],\n",
       "       [4. , 5. , 6. ]])"
      ]
     },
     "execution_count": 18,
     "metadata": {},
     "output_type": "execute_result"
    }
   ],
   "source": [
    "np.empty((2, 3)) "
   ]
  },
  {
   "cell_type": "markdown",
   "id": "b318be53-adde-4d81-9711-6a8a76370b5c",
   "metadata": {},
   "source": [
    "Для создания последовательностей чисел NumPy предоставляет функцию `arange`, которая аналогична встроенной в Python функции `range`, но возвращает массив."
   ]
  },
  {
   "cell_type": "code",
   "execution_count": 19,
   "id": "9401e150-9000-412a-9b5a-8624c4d4d221",
   "metadata": {},
   "outputs": [
    {
     "data": {
      "text/plain": [
       "array([10, 15, 20, 25])"
      ]
     },
     "execution_count": 19,
     "metadata": {},
     "output_type": "execute_result"
    }
   ],
   "source": [
    "np.arange(10, 30, 5)"
   ]
  },
  {
   "cell_type": "code",
   "execution_count": 20,
   "id": "1f3963c5-b545-40cc-8599-a022e21caddc",
   "metadata": {},
   "outputs": [
    {
     "data": {
      "text/plain": [
       "array([0. , 0.3, 0.6, 0.9, 1.2, 1.5, 1.8])"
      ]
     },
     "execution_count": 20,
     "metadata": {},
     "output_type": "execute_result"
    }
   ],
   "source": [
    "np.arange(0, 2, 0.3)"
   ]
  },
  {
   "cell_type": "markdown",
   "id": "92b4c735-b8cf-4bc2-82e2-f17a2d302b58",
   "metadata": {},
   "source": [
    "Когда `arange` используется с аргументами с плавающей точкой, обычно невозможно предсказать количество полученных элементов из-за конечной точности с плавающей точкой. По этой причине обычно лучше использовать функцию `linspace`, которая получает в качестве аргумента количество элементов, которое нам нужно, вместо step:"
   ]
  },
  {
   "cell_type": "code",
   "execution_count": 21,
   "id": "e74d8818-12d3-4078-8770-254dcf68c4cf",
   "metadata": {},
   "outputs": [
    {
     "data": {
      "text/plain": [
       "array([0.  , 0.25, 0.5 , 0.75, 1.  , 1.25, 1.5 , 1.75, 2.  ])"
      ]
     },
     "execution_count": 21,
     "metadata": {},
     "output_type": "execute_result"
    }
   ],
   "source": [
    "from numpy import pi\n",
    "np.linspace(0, 2, 9)"
   ]
  },
  {
   "cell_type": "code",
   "execution_count": 22,
   "id": "b154ebdf-f9a6-4a02-98eb-0297d5996e59",
   "metadata": {},
   "outputs": [],
   "source": [
    "x = np.linspace(0, 2 * pi, 100)\n",
    "f = np.sin(x)"
   ]
  },
  {
   "cell_type": "markdown",
   "id": "828a3c8a-4aa9-43a6-b121-b3fa48b668bb",
   "metadata": {},
   "source": [
    "### Печать массивов"
   ]
  },
  {
   "cell_type": "markdown",
   "id": "386bd1d4-dca8-413d-bb59-6720b39f642b",
   "metadata": {},
   "source": [
    "При печати массива NumPy отображает его аналогично вложенным спискам, но со следующей компоновкой:"
   ]
  },
  {
   "cell_type": "markdown",
   "id": "0b8915c6-4bff-45ec-8e3e-1a0238a04031",
   "metadata": {},
   "source": [
    "- последняя ось печатается слева направо,\n",
    "- предпоследняя печатается сверху вниз,\n",
    "- остальные также печатаются сверху вниз, причем каждый срез отделяется от следующего пустой строкой."
   ]
  },
  {
   "cell_type": "markdown",
   "id": "e0d08b0f-4577-4a88-baba-9d0b51fad485",
   "metadata": {},
   "source": [
    "Одномерные массивы печатаются в виде строк, двумерные — в виде матриц, а трехмерные — в виде списков матриц."
   ]
  },
  {
   "cell_type": "code",
   "execution_count": 23,
   "id": "669f445d-9428-46f0-b234-f3dee77d3e8e",
   "metadata": {},
   "outputs": [
    {
     "name": "stdout",
     "output_type": "stream",
     "text": [
      "[0 1 2 3 4 5]\n"
     ]
    }
   ],
   "source": [
    "a = np.arange(6)\n",
    "print(a)"
   ]
  },
  {
   "cell_type": "code",
   "execution_count": 24,
   "id": "82b98b0b-7f79-40ad-ab7b-cffe5bf18440",
   "metadata": {},
   "outputs": [
    {
     "name": "stdout",
     "output_type": "stream",
     "text": [
      "[[ 0  1  2]\n",
      " [ 3  4  5]\n",
      " [ 6  7  8]\n",
      " [ 9 10 11]]\n"
     ]
    }
   ],
   "source": [
    "b = np.arange(12).reshape(4, 3)\n",
    "print(b)"
   ]
  },
  {
   "cell_type": "code",
   "execution_count": 25,
   "id": "609317c5-960d-4ea7-b5ac-42f790e29fd1",
   "metadata": {},
   "outputs": [
    {
     "name": "stdout",
     "output_type": "stream",
     "text": [
      "[[[ 0  1  2  3]\n",
      "  [ 4  5  6  7]\n",
      "  [ 8  9 10 11]]\n",
      "\n",
      " [[12 13 14 15]\n",
      "  [16 17 18 19]\n",
      "  [20 21 22 23]]]\n"
     ]
    }
   ],
   "source": [
    "c = np.arange(24).reshape(2, 3, 4)\n",
    "print(c)"
   ]
  },
  {
   "cell_type": "markdown",
   "id": "7ec6a93e-a450-4cef-8ff0-c17eedd796c2",
   "metadata": {},
   "source": [
    "Ниже будут приведены более подробные сведения о `reshape`."
   ]
  },
  {
   "cell_type": "markdown",
   "id": "3bf20a2b-50f7-4e2b-9b01-561c24cb1f22",
   "metadata": {},
   "source": [
    "Если массив слишком большой для печати, NumPy автоматически пропускает центральную часть массива и печатает только углы:"
   ]
  },
  {
   "cell_type": "code",
   "execution_count": 26,
   "id": "04a2f5c3-6c7d-43e8-9a8d-e9811705f641",
   "metadata": {},
   "outputs": [
    {
     "name": "stdout",
     "output_type": "stream",
     "text": [
      "[ 0  1  2  3  4  5  6  7  8  9 10 11 12 13 14 15 16 17 18 19 20 21 22 23\n",
      " 24 25 26 27 28 29 30 31 32 33 34 35 36 37 38 39 40 41 42 43 44 45 46 47\n",
      " 48 49 50 51 52 53 54 55 56 57 58 59 60 61 62 63 64 65 66 67 68 69 70 71\n",
      " 72 73 74 75 76 77 78 79 80 81 82 83 84 85 86 87 88 89 90 91 92 93 94 95\n",
      " 96 97 98 99]\n"
     ]
    }
   ],
   "source": [
    "print(np.arange(100))"
   ]
  },
  {
   "cell_type": "code",
   "execution_count": 27,
   "id": "520e28ae-864f-4291-823f-96b6a569e13e",
   "metadata": {},
   "outputs": [
    {
     "name": "stdout",
     "output_type": "stream",
     "text": [
      "[[   0    1    2 ...   97   98   99]\n",
      " [ 100  101  102 ...  197  198  199]\n",
      " [ 200  201  202 ...  297  298  299]\n",
      " ...\n",
      " [9700 9701 9702 ... 9797 9798 9799]\n",
      " [9800 9801 9802 ... 9897 9898 9899]\n",
      " [9900 9901 9902 ... 9997 9998 9999]]\n"
     ]
    }
   ],
   "source": [
    "print(np.arange(10000).reshape(100, 100))"
   ]
  },
  {
   "cell_type": "markdown",
   "id": "1eeb343e-a0f6-447b-bf09-5057d8678a05",
   "metadata": {},
   "source": [
    "Чтобы отключить это поведение и заставить NumPy распечатать весь массив, можно изменить параметры печати с помощью `set_printoptions`."
   ]
  },
  {
   "cell_type": "code",
   "execution_count": 28,
   "id": "3a7ed044-8a35-4d1f-a86b-2a1526ef5c85",
   "metadata": {},
   "outputs": [],
   "source": [
    "import sys \n",
    "np.set_printoptions(threshold=sys.maxsize)"
   ]
  },
  {
   "cell_type": "code",
   "execution_count": 29,
   "id": "5fbd16b9-3b1a-40e0-a4b3-cc258fb17fe9",
   "metadata": {},
   "outputs": [
    {
     "name": "stdout",
     "output_type": "stream",
     "text": [
      "[ 0  1  2  3  4  5  6  7  8  9 10 11 12 13 14 15 16 17 18 19 20 21 22 23\n",
      " 24 25 26 27 28 29 30 31 32 33 34 35 36 37 38 39 40 41 42 43 44 45 46 47\n",
      " 48 49 50 51 52 53 54 55 56 57 58 59 60 61 62 63 64 65 66 67 68 69 70 71\n",
      " 72 73 74 75 76 77 78 79 80 81 82 83 84 85 86 87 88 89 90 91 92 93 94 95\n",
      " 96 97 98 99]\n"
     ]
    }
   ],
   "source": [
    "print(np.arange(100))"
   ]
  },
  {
   "cell_type": "code",
   "execution_count": 30,
   "id": "b579f2f8-2da0-4a17-8492-fe31702f02ff",
   "metadata": {},
   "outputs": [],
   "source": [
    "np.set_printoptions(threshold=50)"
   ]
  },
  {
   "cell_type": "markdown",
   "id": "923d6f62-20e0-4e7c-84f4-e1d07a272f6e",
   "metadata": {},
   "source": [
    "### Основные операции"
   ]
  },
  {
   "cell_type": "markdown",
   "id": "aaa23e17-c23c-4ffb-b32e-de0dcf47e8de",
   "metadata": {},
   "source": [
    "Арифметические операторы в массивах применяются поэлементно. Создается новый массив и заполняется результатом."
   ]
  },
  {
   "cell_type": "code",
   "execution_count": 31,
   "id": "8dcc2540-5747-4ac3-823b-aeb16938fdb1",
   "metadata": {},
   "outputs": [],
   "source": [
    "a = np.array([20, 30, 40, 50])\n",
    "b = np.arange(4)"
   ]
  },
  {
   "cell_type": "code",
   "execution_count": 32,
   "id": "36f30957-c483-4ed8-bd6a-b161b1b4f5b3",
   "metadata": {},
   "outputs": [
    {
     "data": {
      "text/plain": [
       "array([20, 29, 38, 47])"
      ]
     },
     "execution_count": 32,
     "metadata": {},
     "output_type": "execute_result"
    }
   ],
   "source": [
    "c = a - b\n",
    "c"
   ]
  },
  {
   "cell_type": "code",
   "execution_count": 33,
   "id": "6530dbe6-d966-4758-abb4-c5280a382385",
   "metadata": {},
   "outputs": [
    {
     "data": {
      "text/plain": [
       "array([0, 1, 4, 9])"
      ]
     },
     "execution_count": 33,
     "metadata": {},
     "output_type": "execute_result"
    }
   ],
   "source": [
    "b**2"
   ]
  },
  {
   "cell_type": "code",
   "execution_count": 34,
   "id": "493dc18f-6a27-42db-8a8c-b8fb7eeef32d",
   "metadata": {},
   "outputs": [
    {
     "data": {
      "text/plain": [
       "array([ 9.12945251, -9.88031624,  7.4511316 , -2.62374854])"
      ]
     },
     "execution_count": 34,
     "metadata": {},
     "output_type": "execute_result"
    }
   ],
   "source": [
    "10 * np.sin(a)"
   ]
  },
  {
   "cell_type": "code",
   "execution_count": 35,
   "id": "367a4f2e-4991-40e3-84a8-b234257b3a1a",
   "metadata": {},
   "outputs": [
    {
     "data": {
      "text/plain": [
       "array([ True,  True, False, False])"
      ]
     },
     "execution_count": 35,
     "metadata": {},
     "output_type": "execute_result"
    }
   ],
   "source": [
    "a < 35"
   ]
  },
  {
   "cell_type": "markdown",
   "id": "83ed6fd2-4378-4410-a3b5-62cc0a16a187",
   "metadata": {},
   "source": [
    "В отличие от многих матричных языков, оператор произведения `*` работает поэлементно в массивах NumPy. Произведение матриц может быть выполнено с помощью оператора `@` (в python >=3.5) или функции или метода `dot`:"
   ]
  },
  {
   "cell_type": "code",
   "execution_count": 36,
   "id": "48b12d62-950f-4fa3-b432-1c9ef13dcc94",
   "metadata": {},
   "outputs": [],
   "source": [
    "A = np.array([[1, 1],\n",
    "              [0, 1]])\n",
    "B = np.array([[2, 0],\n",
    "              [3, 4]])"
   ]
  },
  {
   "cell_type": "code",
   "execution_count": 37,
   "id": "69f345e7-e30b-4a96-b883-22bca1035629",
   "metadata": {},
   "outputs": [
    {
     "data": {
      "text/plain": [
       "array([[2, 0],\n",
       "       [0, 4]])"
      ]
     },
     "execution_count": 37,
     "metadata": {},
     "output_type": "execute_result"
    }
   ],
   "source": [
    "A * B"
   ]
  },
  {
   "cell_type": "code",
   "execution_count": 38,
   "id": "e59dad7a-e2b6-4ec2-a698-4ae8f31ee720",
   "metadata": {},
   "outputs": [
    {
     "data": {
      "text/plain": [
       "array([[5, 4],\n",
       "       [3, 4]])"
      ]
     },
     "execution_count": 38,
     "metadata": {},
     "output_type": "execute_result"
    }
   ],
   "source": [
    "A @ B"
   ]
  },
  {
   "cell_type": "code",
   "execution_count": 39,
   "id": "2862177f-ec89-449d-bdfb-fa5aba1e3901",
   "metadata": {},
   "outputs": [
    {
     "data": {
      "text/plain": [
       "array([[5, 4],\n",
       "       [3, 4]])"
      ]
     },
     "execution_count": 39,
     "metadata": {},
     "output_type": "execute_result"
    }
   ],
   "source": [
    "A.dot(B)"
   ]
  },
  {
   "cell_type": "markdown",
   "id": "a646ef51-1415-4b7f-88ad-2014e661b5dd",
   "metadata": {},
   "source": [
    "Некоторые операции, такие как `+=` и `*=`, действуют на месте, изменяя существующий массив, а не создавая новый."
   ]
  },
  {
   "cell_type": "code",
   "execution_count": 40,
   "id": "2f417d1c-cc0c-4d8c-b1bb-1985839aab34",
   "metadata": {},
   "outputs": [
    {
     "data": {
      "text/plain": [
       "array([[3, 3, 3],\n",
       "       [3, 3, 3]])"
      ]
     },
     "execution_count": 40,
     "metadata": {},
     "output_type": "execute_result"
    }
   ],
   "source": [
    "rg = np.random.default_rng(1)\n",
    "a = np.ones((2, 3), dtype=int)\n",
    "b = rg.random((2, 3))\n",
    "a *= 3\n",
    "a"
   ]
  },
  {
   "cell_type": "code",
   "execution_count": 41,
   "id": "10c28964-84e5-45af-89c2-8f3a8be758bd",
   "metadata": {},
   "outputs": [
    {
     "data": {
      "text/plain": [
       "array([[3.51182162, 3.9504637 , 3.14415961],\n",
       "       [3.94864945, 3.31183145, 3.42332645]])"
      ]
     },
     "execution_count": 41,
     "metadata": {},
     "output_type": "execute_result"
    }
   ],
   "source": [
    "b += a\n",
    "b"
   ]
  },
  {
   "cell_type": "code",
   "execution_count": 42,
   "id": "abfdd421-f9f8-48e7-b269-30e30cf86618",
   "metadata": {},
   "outputs": [
    {
     "ename": "UFuncTypeError",
     "evalue": "Cannot cast ufunc 'add' output from dtype('float64') to dtype('int64') with casting rule 'same_kind'",
     "output_type": "error",
     "traceback": [
      "\u001b[0;31m---------------------------------------------------------------------------\u001b[0m",
      "\u001b[0;31mUFuncTypeError\u001b[0m                            Traceback (most recent call last)",
      "Cell \u001b[0;32mIn[42], line 1\u001b[0m\n\u001b[0;32m----> 1\u001b[0m \u001b[43ma\u001b[49m\u001b[43m \u001b[49m\u001b[38;5;241;43m+\u001b[39;49m\u001b[38;5;241;43m=\u001b[39;49m\u001b[43m \u001b[49m\u001b[43mb\u001b[49m\n",
      "\u001b[0;31mUFuncTypeError\u001b[0m: Cannot cast ufunc 'add' output from dtype('float64') to dtype('int64') with casting rule 'same_kind'"
     ]
    }
   ],
   "source": [
    "a += b"
   ]
  },
  {
   "cell_type": "markdown",
   "id": "12aa8d11-505c-4f22-ace7-d3cbfcafda2a",
   "metadata": {},
   "source": [
    "При работе с массивами разных типов тип результирующего массива соответствует более общему или точному (такое поведение называется приведением к базовому типу)."
   ]
  },
  {
   "cell_type": "code",
   "execution_count": 43,
   "id": "5c441dde-1747-4e60-a5c5-d5c292938f68",
   "metadata": {},
   "outputs": [
    {
     "data": {
      "text/plain": [
       "'float64'"
      ]
     },
     "execution_count": 43,
     "metadata": {},
     "output_type": "execute_result"
    }
   ],
   "source": [
    "a = np.ones(3, dtype=np.int32)\n",
    "b = np.linspace(0, pi, 3)\n",
    "b.dtype.name"
   ]
  },
  {
   "cell_type": "code",
   "execution_count": 44,
   "id": "1cc78591-ab2e-4deb-8971-0a58fec4e809",
   "metadata": {},
   "outputs": [
    {
     "data": {
      "text/plain": [
       "array([1.        , 2.57079633, 4.14159265])"
      ]
     },
     "execution_count": 44,
     "metadata": {},
     "output_type": "execute_result"
    }
   ],
   "source": [
    "c = a + b\n",
    "c"
   ]
  },
  {
   "cell_type": "code",
   "execution_count": 45,
   "id": "034b4144-8b4e-4789-bafe-8df21795b00d",
   "metadata": {},
   "outputs": [
    {
     "data": {
      "text/plain": [
       "'float64'"
      ]
     },
     "execution_count": 45,
     "metadata": {},
     "output_type": "execute_result"
    }
   ],
   "source": [
    "c.dtype.name"
   ]
  },
  {
   "cell_type": "code",
   "execution_count": 46,
   "id": "77e3f051-0b83-46fe-8c80-38c2b4b76d5a",
   "metadata": {},
   "outputs": [
    {
     "data": {
      "text/plain": [
       "array([ 0.54030231+0.84147098j, -0.84147098+0.54030231j,\n",
       "       -0.54030231-0.84147098j])"
      ]
     },
     "execution_count": 46,
     "metadata": {},
     "output_type": "execute_result"
    }
   ],
   "source": [
    "d = np.exp(c * 1j)\n",
    "d"
   ]
  },
  {
   "cell_type": "code",
   "execution_count": 47,
   "id": "a3f679c5-0ebc-405b-a859-d8d6188e677f",
   "metadata": {},
   "outputs": [
    {
     "data": {
      "text/plain": [
       "'complex128'"
      ]
     },
     "execution_count": 47,
     "metadata": {},
     "output_type": "execute_result"
    }
   ],
   "source": [
    "d.dtype.name"
   ]
  },
  {
   "cell_type": "markdown",
   "id": "11216f0b-22ca-4ac0-8b19-48c56a015f92",
   "metadata": {},
   "source": [
    "Многие унарные операции, такие как вычисление суммы всех элементов массива, реализованы как методы класса `ndarray`."
   ]
  },
  {
   "cell_type": "code",
   "execution_count": 48,
   "id": "6213cc11-4f79-4b56-9bc0-90402dc2df7b",
   "metadata": {},
   "outputs": [
    {
     "data": {
      "text/plain": [
       "array([[0.82770259, 0.40919914, 0.54959369],\n",
       "       [0.02755911, 0.75351311, 0.53814331]])"
      ]
     },
     "execution_count": 48,
     "metadata": {},
     "output_type": "execute_result"
    }
   ],
   "source": [
    "a = rg.random((2, 3))\n",
    "a"
   ]
  },
  {
   "cell_type": "code",
   "execution_count": 49,
   "id": "f7939759-1cd4-4dfe-a1be-fa09c481c0a4",
   "metadata": {},
   "outputs": [
    {
     "data": {
      "text/plain": [
       "np.float64(3.1057109529998157)"
      ]
     },
     "execution_count": 49,
     "metadata": {},
     "output_type": "execute_result"
    }
   ],
   "source": [
    "a.sum()"
   ]
  },
  {
   "cell_type": "code",
   "execution_count": 50,
   "id": "5dbf386b-dd68-443c-a8c8-6baaff7c9331",
   "metadata": {},
   "outputs": [
    {
     "data": {
      "text/plain": [
       "np.float64(0.8277025938204418)"
      ]
     },
     "execution_count": 50,
     "metadata": {},
     "output_type": "execute_result"
    }
   ],
   "source": [
    "a.max()"
   ]
  },
  {
   "cell_type": "markdown",
   "id": "26954bc1-3a77-43dc-b31a-97fa4c46c60f",
   "metadata": {},
   "source": [
    "По умолчанию эти операции применяются к массиву так, как если бы это был список чисел, независимо от его формы. Однако, указав параметр `axis`, можно применить операцию вдоль указанной оси массива:"
   ]
  },
  {
   "cell_type": "code",
   "execution_count": 51,
   "id": "188e3159-a8ca-47a0-86b9-bc7c46495875",
   "metadata": {},
   "outputs": [
    {
     "data": {
      "text/plain": [
       "array([[ 0,  1,  2,  3],\n",
       "       [ 4,  5,  6,  7],\n",
       "       [ 8,  9, 10, 11]])"
      ]
     },
     "execution_count": 51,
     "metadata": {},
     "output_type": "execute_result"
    }
   ],
   "source": [
    "b = np.arange(12).reshape(3, 4)\n",
    "b"
   ]
  },
  {
   "cell_type": "code",
   "execution_count": 52,
   "id": "b0817922-3a6e-4fd6-81d5-d99f660e1e68",
   "metadata": {},
   "outputs": [
    {
     "data": {
      "text/plain": [
       "array([12, 15, 18, 21])"
      ]
     },
     "execution_count": 52,
     "metadata": {},
     "output_type": "execute_result"
    }
   ],
   "source": [
    "b.sum(axis=0) # сумма каждого столбца"
   ]
  },
  {
   "cell_type": "code",
   "execution_count": 53,
   "id": "4a13051d-4e7d-4502-b49d-a2de04bf2ca9",
   "metadata": {},
   "outputs": [
    {
     "data": {
      "text/plain": [
       "array([0, 4, 8])"
      ]
     },
     "execution_count": 53,
     "metadata": {},
     "output_type": "execute_result"
    }
   ],
   "source": [
    "b.min(axis=1) # мин каждой строки"
   ]
  },
  {
   "cell_type": "code",
   "execution_count": 54,
   "id": "ae475f11-ec1c-44fa-9ca3-f33f2258d6e9",
   "metadata": {},
   "outputs": [
    {
     "data": {
      "text/plain": [
       "array([[ 0,  1,  3,  6],\n",
       "       [ 4,  9, 15, 22],\n",
       "       [ 8, 17, 27, 38]])"
      ]
     },
     "execution_count": 54,
     "metadata": {},
     "output_type": "execute_result"
    }
   ],
   "source": [
    "b.cumsum(axis=1) # кумулятивная сумма по каждой строке"
   ]
  },
  {
   "cell_type": "markdown",
   "id": "0975071e-a447-45c9-8092-63cdf4963107",
   "metadata": {},
   "source": [
    "### Универсальные функции"
   ]
  },
  {
   "cell_type": "markdown",
   "id": "87fd1284-4d3a-400a-8ee3-1a5a27b09c69",
   "metadata": {},
   "source": [
    "NumPy предоставляет математические функции, такие как `sin`, `cos`, `exp`. В NumPy они называются «универсальными функциями» (`ufunc`). В NumPy эти функции работают поэлементно с массивом, создавая массив в качестве выходных данных."
   ]
  },
  {
   "cell_type": "code",
   "execution_count": 55,
   "id": "c31b886f-47da-477b-93ba-6a5d75e4ef1e",
   "metadata": {},
   "outputs": [
    {
     "data": {
      "text/plain": [
       "array([1.        , 2.71828183, 7.3890561 ])"
      ]
     },
     "execution_count": 55,
     "metadata": {},
     "output_type": "execute_result"
    }
   ],
   "source": [
    "B = np.arange(3)\n",
    "np.exp(B)"
   ]
  },
  {
   "cell_type": "markdown",
   "id": "9e5f019d-e720-4a2e-aca5-484541adaedd",
   "metadata": {},
   "source": [
    "### Индексирование, нарезка и итерация"
   ]
  },
  {
   "cell_type": "markdown",
   "id": "fe89f555-e718-44be-8754-8b614cd05030",
   "metadata": {},
   "source": [
    "Одномерные массивы можно индексировать, разбивать на срезы и выполнять итерации, подобно спискам и другим последовательностям Python."
   ]
  },
  {
   "cell_type": "code",
   "execution_count": 56,
   "id": "137a43ca-a4b4-49aa-a7c3-89f6a3cc1695",
   "metadata": {},
   "outputs": [
    {
     "data": {
      "text/plain": [
       "array([  0,   1,   8,  27,  64, 125, 216, 343, 512, 729])"
      ]
     },
     "execution_count": 56,
     "metadata": {},
     "output_type": "execute_result"
    }
   ],
   "source": [
    "a = np.arange(10)**3\n",
    "a"
   ]
  },
  {
   "cell_type": "code",
   "execution_count": 57,
   "id": "dea84e24-d02d-4067-a095-5bb372a849f7",
   "metadata": {},
   "outputs": [
    {
     "data": {
      "text/plain": [
       "np.int64(8)"
      ]
     },
     "execution_count": 57,
     "metadata": {},
     "output_type": "execute_result"
    }
   ],
   "source": [
    "a[2]"
   ]
  },
  {
   "cell_type": "code",
   "execution_count": 58,
   "id": "3051da43-db32-4be7-ac20-e90fdc9910fd",
   "metadata": {},
   "outputs": [
    {
     "data": {
      "text/plain": [
       "array([ 8, 27, 64])"
      ]
     },
     "execution_count": 58,
     "metadata": {},
     "output_type": "execute_result"
    }
   ],
   "source": [
    "a[2:5]"
   ]
  },
  {
   "cell_type": "code",
   "execution_count": 59,
   "id": "b356c335-e6bf-4434-b64f-57df3cfdc2bc",
   "metadata": {},
   "outputs": [
    {
     "data": {
      "text/plain": [
       "array([729, 512, 343, 216, 125,  64,  27,   8,   1,   0])"
      ]
     },
     "execution_count": 59,
     "metadata": {},
     "output_type": "execute_result"
    }
   ],
   "source": [
    "a[::-1]"
   ]
  },
  {
   "cell_type": "code",
   "execution_count": 60,
   "id": "26865d0f-3dad-45a5-90bc-b7b40de4d011",
   "metadata": {},
   "outputs": [
    {
     "name": "stdout",
     "output_type": "stream",
     "text": [
      "0.0\n",
      "1.0\n",
      "2.0\n",
      "3.0\n",
      "3.9999999999999996\n",
      "4.999999999999999\n",
      "5.999999999999999\n",
      "6.999999999999999\n",
      "7.999999999999999\n",
      "8.999999999999998\n"
     ]
    }
   ],
   "source": [
    "for i in a:\n",
    "    print(i**(1 / 3.))"
   ]
  },
  {
   "cell_type": "markdown",
   "id": "105c2513-c87c-4511-9d2d-b54e1eefeaa2",
   "metadata": {},
   "source": [
    "Многомерные массивы могут иметь один индекс на ось. Эти индексы задаются в кортеже, разделенном запятыми:"
   ]
  },
  {
   "cell_type": "code",
   "execution_count": 61,
   "id": "d8ccf985-08b7-4057-bfa2-64fd712d9195",
   "metadata": {},
   "outputs": [],
   "source": [
    "def f(x, y):\n",
    "    return 10 * x + y\n",
    "\n",
    "b = np.fromfunction(f, (5, 4), dtype=int)"
   ]
  },
  {
   "cell_type": "code",
   "execution_count": 62,
   "id": "41d70590-daf5-4f97-8d99-d5fb8d790bfc",
   "metadata": {},
   "outputs": [
    {
     "data": {
      "text/plain": [
       "np.int64(23)"
      ]
     },
     "execution_count": 62,
     "metadata": {},
     "output_type": "execute_result"
    }
   ],
   "source": [
    "b[2, 3]"
   ]
  },
  {
   "cell_type": "code",
   "execution_count": 63,
   "id": "c7c67a26-7eb1-4bd2-ace6-93a84a967e0e",
   "metadata": {},
   "outputs": [
    {
     "data": {
      "text/plain": [
       "array([[10, 11, 12, 13],\n",
       "       [20, 21, 22, 23]])"
      ]
     },
     "execution_count": 63,
     "metadata": {},
     "output_type": "execute_result"
    }
   ],
   "source": [
    "b[1:3, :]"
   ]
  },
  {
   "cell_type": "code",
   "execution_count": 64,
   "id": "60b7e893-055e-456d-b6fb-4fe7d2f3c997",
   "metadata": {},
   "outputs": [
    {
     "data": {
      "text/plain": [
       "array([ 1, 11, 21, 31, 41])"
      ]
     },
     "execution_count": 64,
     "metadata": {},
     "output_type": "execute_result"
    }
   ],
   "source": [
    "b[0:5, 1]"
   ]
  },
  {
   "cell_type": "markdown",
   "id": "96604273-03b0-4eea-8f8b-f106b73d2f1e",
   "metadata": {},
   "source": [
    "Если указано меньше индексов, чем число осей, отсутствующие индексы считаются полными срезами `:`"
   ]
  },
  {
   "cell_type": "code",
   "execution_count": 65,
   "id": "679686a9-91cf-429b-b18a-7eea6c45df6a",
   "metadata": {},
   "outputs": [
    {
     "data": {
      "text/plain": [
       "array([40, 41, 42, 43])"
      ]
     },
     "execution_count": 65,
     "metadata": {},
     "output_type": "execute_result"
    }
   ],
   "source": [
    "b[-1]"
   ]
  },
  {
   "cell_type": "markdown",
   "id": "062c925e-7bfb-4a54-a1da-b1320d336a9e",
   "metadata": {},
   "source": [
    "Выражение в скобках в `b[i]` рассматривается как `i`, за которым следует столько экземпляров `:`, сколько необходимо для представления оставшихся осей. NumPy также позволяет записать это с использованием точек как `b[i, ...]`.\n",
    "\n",
    "Точки (`...`) представляют столько двоеточий, сколько необходимо для создания полного индексного кортежа. Например, если x — массив с 5 осями, то\n",
    "\n",
    "- `x[1, 2, ...]` эквивалентно `x[1, 2, :, :, :]`,\n",
    "\n",
    "- `x[..., 3]` — `x[:, :, :, :, 3]` и\n",
    "\n",
    "- `x[4, ..., 5, :]` — `x[4, :, :, 5, :]`."
   ]
  },
  {
   "cell_type": "code",
   "execution_count": 66,
   "id": "fd6785c9-2990-4422-a330-97238fd38674",
   "metadata": {},
   "outputs": [
    {
     "data": {
      "text/plain": [
       "(2, 2, 3)"
      ]
     },
     "execution_count": 66,
     "metadata": {},
     "output_type": "execute_result"
    }
   ],
   "source": [
    "c = np.array([[[  0,  1,  2],\n",
    "               [ 10, 12, 13]],\n",
    "              [[100, 101, 102],\n",
    "               [110, 112, 113]]])\n",
    "c.shape"
   ]
  },
  {
   "cell_type": "code",
   "execution_count": 67,
   "id": "247f9ae0-bc76-4088-a836-2843f4f60ff1",
   "metadata": {},
   "outputs": [
    {
     "data": {
      "text/plain": [
       "array([[100, 101, 102],\n",
       "       [110, 112, 113]])"
      ]
     },
     "execution_count": 67,
     "metadata": {},
     "output_type": "execute_result"
    }
   ],
   "source": [
    "c[1, ...] # то же самое, что c[1, :, :] или c[1]"
   ]
  },
  {
   "cell_type": "code",
   "execution_count": 68,
   "id": "e45f09da-dc71-418d-804c-addbd9d7f012",
   "metadata": {},
   "outputs": [
    {
     "data": {
      "text/plain": [
       "array([[  2,  13],\n",
       "       [102, 113]])"
      ]
     },
     "execution_count": 68,
     "metadata": {},
     "output_type": "execute_result"
    }
   ],
   "source": [
    "c[..., 2] # то же самое, что c[:, :, 2]"
   ]
  },
  {
   "cell_type": "markdown",
   "id": "3213c5c5-5487-45cc-b6d0-b825706c3267",
   "metadata": {},
   "source": [
    "Итерация по многомерным массивам выполняется относительно первой оси:"
   ]
  },
  {
   "cell_type": "code",
   "execution_count": 69,
   "id": "16974d59-4908-4e5d-abd3-6cdbbd9e4a81",
   "metadata": {},
   "outputs": [
    {
     "name": "stdout",
     "output_type": "stream",
     "text": [
      "[0 1 2 3]\n",
      "[10 11 12 13]\n",
      "[20 21 22 23]\n",
      "[30 31 32 33]\n",
      "[40 41 42 43]\n"
     ]
    }
   ],
   "source": [
    "for row in b:\n",
    "    print(row)"
   ]
  },
  {
   "cell_type": "markdown",
   "id": "f95a0a1c-9213-45a4-b454-d665c2628af1",
   "metadata": {},
   "source": [
    "Однако, если требуется выполнить операцию над каждым элементом массива, можно использовать атрибут `flat`, который является итератором по всем элементам массива:"
   ]
  },
  {
   "cell_type": "code",
   "execution_count": 70,
   "id": "c1e4e222-0efd-411d-b83d-5e3d47b146b8",
   "metadata": {},
   "outputs": [
    {
     "name": "stdout",
     "output_type": "stream",
     "text": [
      "0\n",
      "1\n",
      "2\n",
      "3\n",
      "10\n",
      "11\n",
      "12\n",
      "13\n",
      "20\n",
      "21\n",
      "22\n",
      "23\n",
      "30\n",
      "31\n",
      "32\n",
      "33\n",
      "40\n",
      "41\n",
      "42\n",
      "43\n"
     ]
    }
   ],
   "source": [
    "for element in b.flat:\n",
    "    print(element)"
   ]
  },
  {
   "cell_type": "markdown",
   "id": "af01892d-b0e9-4b78-8b72-4d63d0999d25",
   "metadata": {},
   "source": [
    "## Манипуляция «формой»"
   ]
  },
  {
   "cell_type": "markdown",
   "id": "05ff0015-8089-495d-8504-95bcbfb8370f",
   "metadata": {},
   "source": [
    "### Изменение формы массива"
   ]
  },
  {
   "cell_type": "markdown",
   "id": "6c7b0424-70fd-42ed-ab13-9197cee914c8",
   "metadata": {},
   "source": [
    "Массив имеет форму, заданную числом элементов вдоль каждой оси:"
   ]
  },
  {
   "cell_type": "code",
   "execution_count": 71,
   "id": "5c99d864-ab5c-4375-9fa3-fc261184caa4",
   "metadata": {},
   "outputs": [
    {
     "data": {
      "text/plain": [
       "array([[3., 7., 3., 4.],\n",
       "       [1., 4., 2., 2.],\n",
       "       [7., 2., 4., 9.]])"
      ]
     },
     "execution_count": 71,
     "metadata": {},
     "output_type": "execute_result"
    }
   ],
   "source": [
    "a = np.floor(10 * rg.random((3, 4)))\n",
    "a"
   ]
  },
  {
   "cell_type": "code",
   "execution_count": 72,
   "id": "2646c1ea-6b2b-47b3-9670-f09a8d30391f",
   "metadata": {},
   "outputs": [
    {
     "data": {
      "text/plain": [
       "(3, 4)"
      ]
     },
     "execution_count": 72,
     "metadata": {},
     "output_type": "execute_result"
    }
   ],
   "source": [
    "a.shape"
   ]
  },
  {
   "cell_type": "markdown",
   "id": "34c135de-34c1-4aca-b879-990f861c39ef",
   "metadata": {},
   "source": [
    "Форму массива можно изменить с помощью различных команд. Обратите внимание, что следующие три команды возвращают измененный массив, но не изменяют исходный массив:"
   ]
  },
  {
   "cell_type": "code",
   "execution_count": 73,
   "id": "d3ee0c1e-b28d-4245-8560-12cd47c56ccd",
   "metadata": {},
   "outputs": [
    {
     "data": {
      "text/plain": [
       "array([3., 7., 3., 4., 1., 4., 2., 2., 7., 2., 4., 9.])"
      ]
     },
     "execution_count": 73,
     "metadata": {},
     "output_type": "execute_result"
    }
   ],
   "source": [
    "a.ravel() # возвращает массив, собранных из элементов исходного массива"
   ]
  },
  {
   "cell_type": "code",
   "execution_count": 74,
   "id": "f3b241ae-f646-405a-8356-69b143c336d4",
   "metadata": {},
   "outputs": [
    {
     "data": {
      "text/plain": [
       "array([[3., 7.],\n",
       "       [3., 4.],\n",
       "       [1., 4.],\n",
       "       [2., 2.],\n",
       "       [7., 2.],\n",
       "       [4., 9.]])"
      ]
     },
     "execution_count": 74,
     "metadata": {},
     "output_type": "execute_result"
    }
   ],
   "source": [
    "a.reshape(6, 2) # возвращает массив с измененной формой"
   ]
  },
  {
   "cell_type": "code",
   "execution_count": 75,
   "id": "fe9049eb-c3a7-4a4a-a815-ada8de92816f",
   "metadata": {},
   "outputs": [
    {
     "data": {
      "text/plain": [
       "array([[3., 1., 7.],\n",
       "       [7., 4., 2.],\n",
       "       [3., 2., 4.],\n",
       "       [4., 2., 9.]])"
      ]
     },
     "execution_count": 75,
     "metadata": {},
     "output_type": "execute_result"
    }
   ],
   "source": [
    "a.T # возвращает массив, транспонированный"
   ]
  },
  {
   "cell_type": "code",
   "execution_count": 76,
   "id": "49929f00-7bdc-4e25-a891-e1747f1bd0a7",
   "metadata": {},
   "outputs": [
    {
     "data": {
      "text/plain": [
       "(4, 3)"
      ]
     },
     "execution_count": 76,
     "metadata": {},
     "output_type": "execute_result"
    }
   ],
   "source": [
    "a.T.shape"
   ]
  },
  {
   "cell_type": "code",
   "execution_count": 77,
   "id": "bbf20baa-544c-4cec-bfff-523a9b4280f5",
   "metadata": {},
   "outputs": [
    {
     "data": {
      "text/plain": [
       "(3, 4)"
      ]
     },
     "execution_count": 77,
     "metadata": {},
     "output_type": "execute_result"
    }
   ],
   "source": [
    "a.shape"
   ]
  },
  {
   "cell_type": "markdown",
   "id": "c0f7606d-3163-42ab-85cd-f48a127a2c0b",
   "metadata": {},
   "source": [
    "Порядок элементов в массиве, полученном в результате `ravel`, обычно соответствует тому, как это устроено языке Си, то есть самый правый индекс «изменяется быстрее всего», поэтому элемент после `a[0, 0]` — это `a[0, 1]`. Если массив преобразуется в какую-то другую форму, массив снова обрабатывается как «C-style». NumPy обычно создает массивы, хранящиеся в этом порядке, поэтому `ravel` обычно не нужно копировать свой аргумент, но если массив был создан путем взятия срезов другого массива или создан с необычными параметрами, его может потребоваться скопировать. Функциям `ravel` и `reshape` также можно указать, используя необязательный аргумент, использовать массивы в стиле FORTRAN, в которых самый левый индекс изменяется быстрее всего."
   ]
  },
  {
   "cell_type": "markdown",
   "id": "dcb86970-d156-4e19-968d-9ee42edf794f",
   "metadata": {},
   "source": [
    "Функция `reshape` возвращает свой аргумент с измененной формой, тогда как метод `ndarray.resize` изменяет сам массив:"
   ]
  },
  {
   "cell_type": "code",
   "execution_count": 78,
   "id": "94233618-8342-4dfb-a6fd-2778cf163742",
   "metadata": {},
   "outputs": [
    {
     "data": {
      "text/plain": [
       "array([[3., 7., 3., 4.],\n",
       "       [1., 4., 2., 2.],\n",
       "       [7., 2., 4., 9.]])"
      ]
     },
     "execution_count": 78,
     "metadata": {},
     "output_type": "execute_result"
    }
   ],
   "source": [
    "a"
   ]
  },
  {
   "cell_type": "code",
   "execution_count": 79,
   "id": "d2aada77-fadb-4562-905a-68f71a59584e",
   "metadata": {},
   "outputs": [],
   "source": [
    "a.resize((2, 6))"
   ]
  },
  {
   "cell_type": "code",
   "execution_count": 80,
   "id": "a703c999-e124-4020-8670-b415ba8140a1",
   "metadata": {},
   "outputs": [
    {
     "data": {
      "text/plain": [
       "array([[3., 7., 3., 4., 1., 4.],\n",
       "       [2., 2., 7., 2., 4., 9.]])"
      ]
     },
     "execution_count": 80,
     "metadata": {},
     "output_type": "execute_result"
    }
   ],
   "source": [
    "a"
   ]
  },
  {
   "cell_type": "markdown",
   "id": "71c77102-9c4f-4b1c-b4ea-4662632fcdde",
   "metadata": {},
   "source": [
    "Если в операции изменения формы размер задан как `-1`, остальные размеры рассчитываются автоматически:"
   ]
  },
  {
   "cell_type": "code",
   "execution_count": 81,
   "id": "b41f97e0-57a8-4c98-8cbf-3ae5f7f0d7d0",
   "metadata": {},
   "outputs": [
    {
     "data": {
      "text/plain": [
       "array([[3., 7., 3., 4.],\n",
       "       [1., 4., 2., 2.],\n",
       "       [7., 2., 4., 9.]])"
      ]
     },
     "execution_count": 81,
     "metadata": {},
     "output_type": "execute_result"
    }
   ],
   "source": [
    "a.reshape(3, -1)"
   ]
  },
  {
   "cell_type": "markdown",
   "id": "7c4b2437-020b-4ea7-8037-0113feced3ed",
   "metadata": {},
   "source": [
    "### Объединение разных массивов"
   ]
  },
  {
   "cell_type": "markdown",
   "id": "7782322b-7e9c-4a16-9814-b8fb5518aae6",
   "metadata": {},
   "source": [
    "Несколько массивов могут быть сложены вместе вдоль разных осей:"
   ]
  },
  {
   "cell_type": "code",
   "execution_count": 82,
   "id": "f9350658-2b5f-486a-83b2-8ca8f646afd0",
   "metadata": {},
   "outputs": [
    {
     "data": {
      "text/plain": [
       "array([[9., 7.],\n",
       "       [5., 2.]])"
      ]
     },
     "execution_count": 82,
     "metadata": {},
     "output_type": "execute_result"
    }
   ],
   "source": [
    "a = np.floor(10 * rg.random((2, 2)))\n",
    "a"
   ]
  },
  {
   "cell_type": "code",
   "execution_count": 83,
   "id": "88e8d828-8f52-4bd6-9c33-20dc678f1404",
   "metadata": {},
   "outputs": [
    {
     "data": {
      "text/plain": [
       "array([[1., 9.],\n",
       "       [5., 1.]])"
      ]
     },
     "execution_count": 83,
     "metadata": {},
     "output_type": "execute_result"
    }
   ],
   "source": [
    "b = np.floor(10 * rg.random((2, 2)))\n",
    "b"
   ]
  },
  {
   "cell_type": "code",
   "execution_count": 84,
   "id": "dd25dc59-9f46-465f-8872-697f14d749e8",
   "metadata": {},
   "outputs": [
    {
     "data": {
      "text/plain": [
       "array([[9., 7.],\n",
       "       [5., 2.],\n",
       "       [1., 9.],\n",
       "       [5., 1.]])"
      ]
     },
     "execution_count": 84,
     "metadata": {},
     "output_type": "execute_result"
    }
   ],
   "source": [
    "np.vstack((a, b))"
   ]
  },
  {
   "cell_type": "code",
   "execution_count": 85,
   "id": "d2792cfb-650c-4902-b53a-c27e18c0dcc0",
   "metadata": {},
   "outputs": [
    {
     "data": {
      "text/plain": [
       "array([[9., 7., 1., 9.],\n",
       "       [5., 2., 5., 1.]])"
      ]
     },
     "execution_count": 85,
     "metadata": {},
     "output_type": "execute_result"
    }
   ],
   "source": [
    "np.hstack((a, b))"
   ]
  },
  {
   "cell_type": "markdown",
   "id": "8990276e-a9c5-42db-bd3f-fcfc5449c88a",
   "metadata": {},
   "source": [
    "Функция `column_stack` складывает одномерные массивы как столбцы в двумерный массив. Она эквивалентна `hstack` только для двумерных массивов:"
   ]
  },
  {
   "cell_type": "code",
   "execution_count": 86,
   "id": "82fe10bd-94c9-4825-8b59-b8bbdaa87711",
   "metadata": {},
   "outputs": [
    {
     "data": {
      "text/plain": [
       "array([[9., 7., 1., 9.],\n",
       "       [5., 2., 5., 1.]])"
      ]
     },
     "execution_count": 86,
     "metadata": {},
     "output_type": "execute_result"
    }
   ],
   "source": [
    "np.column_stack((a, b)) # получаем двумерный массив"
   ]
  },
  {
   "cell_type": "code",
   "execution_count": 87,
   "id": "8f06b690-8838-43ce-94cd-0315370994f8",
   "metadata": {},
   "outputs": [
    {
     "data": {
      "text/plain": [
       "array([[4., 3.],\n",
       "       [2., 8.]])"
      ]
     },
     "execution_count": 87,
     "metadata": {},
     "output_type": "execute_result"
    }
   ],
   "source": [
    "a = np.array([4., 2.])\n",
    "b = np.array([3., 8.])\n",
    "np.column_stack((a, b)) # возвращает двумерный массив"
   ]
  },
  {
   "cell_type": "code",
   "execution_count": 88,
   "id": "793f50e8-fc6f-4791-9fe4-cd8f6d6b96ea",
   "metadata": {},
   "outputs": [
    {
     "data": {
      "text/plain": [
       "array([4., 2., 3., 8.])"
      ]
     },
     "execution_count": 88,
     "metadata": {},
     "output_type": "execute_result"
    }
   ],
   "source": [
    "np.hstack((a, b)) # результат другой"
   ]
  },
  {
   "cell_type": "markdown",
   "id": "3be71724-84e8-4839-96c7-c51268b50ead",
   "metadata": {},
   "source": [
    "Пояснение:"
   ]
  },
  {
   "cell_type": "code",
   "execution_count": 89,
   "id": "a16b121a-c736-454d-813e-e48ab95a608f",
   "metadata": {},
   "outputs": [
    {
     "data": {
      "text/plain": [
       "array([[4.],\n",
       "       [2.]])"
      ]
     },
     "execution_count": 89,
     "metadata": {},
     "output_type": "execute_result"
    }
   ],
   "source": [
    "from numpy import newaxis\n",
    "a[:, newaxis] # просмотр массива `a` как двумерного вектора-столбца"
   ]
  },
  {
   "cell_type": "code",
   "execution_count": 90,
   "id": "7bb5548b-24a9-4f23-8b9c-4d54d02b49b4",
   "metadata": {},
   "outputs": [
    {
     "data": {
      "text/plain": [
       "array([[4., 3.],\n",
       "       [2., 8.]])"
      ]
     },
     "execution_count": 90,
     "metadata": {},
     "output_type": "execute_result"
    }
   ],
   "source": [
    "np.column_stack((a[:, newaxis], b[:, newaxis]))"
   ]
  },
  {
   "cell_type": "code",
   "execution_count": 91,
   "id": "f4db8b70-657f-4eb4-9b50-825580d538eb",
   "metadata": {},
   "outputs": [
    {
     "data": {
      "text/plain": [
       "array([[4., 3.],\n",
       "       [2., 8.]])"
      ]
     },
     "execution_count": 91,
     "metadata": {},
     "output_type": "execute_result"
    }
   ],
   "source": [
    "np.hstack((a[:, newaxis], b[:, newaxis])) # результат тот же"
   ]
  },
  {
   "cell_type": "markdown",
   "id": "f56211e9-ef63-4e3b-9b35-3701bfdcad38",
   "metadata": {},
   "source": [
    "В общем случае для массивов с более чем двумя измерениями `hstack` выполняет стекирование вдоль вторых осей, `vstack` выполняет стекирование вдоль первых осей, а `concatenate` допускает необязательные аргументы, задающие номер оси, вдоль которой должна выполняться конкатенация."
   ]
  },
  {
   "cell_type": "markdown",
   "id": "d823ccc8-36ec-4b9b-90cb-748915ff819f",
   "metadata": {},
   "source": [
    "### Разделение одного массива на несколько меньших"
   ]
  },
  {
   "cell_type": "markdown",
   "id": "4ebccdd9-27d9-44b0-b42d-c90fb86f80c5",
   "metadata": {},
   "source": [
    "Используя `hsplit`, можно разделить массив по горизонтальной оси, указав либо количество возвращаемых массивов одинаковой формы, либо столбцы, после которых должно выполняться разделение:"
   ]
  },
  {
   "cell_type": "code",
   "execution_count": 92,
   "id": "2dd8fb81-dd39-426d-a61d-86734f2d2a58",
   "metadata": {},
   "outputs": [
    {
     "data": {
      "text/plain": [
       "array([[6., 7., 6., 9., 0., 5., 4., 0., 6., 8., 5., 2.],\n",
       "       [8., 5., 5., 7., 1., 8., 6., 7., 1., 8., 1., 0.]])"
      ]
     },
     "execution_count": 92,
     "metadata": {},
     "output_type": "execute_result"
    }
   ],
   "source": [
    "a = np.floor(10 * rg.random((2, 12)))\n",
    "a"
   ]
  },
  {
   "cell_type": "code",
   "execution_count": 93,
   "id": "00962070-267e-40d0-8ee6-c81274606db7",
   "metadata": {},
   "outputs": [
    {
     "data": {
      "text/plain": [
       "[array([[6., 7., 6., 9., 0., 5.],\n",
       "        [8., 5., 5., 7., 1., 8.]]),\n",
       " array([[4., 0., 6., 8., 5., 2.],\n",
       "        [6., 7., 1., 8., 1., 0.]])]"
      ]
     },
     "execution_count": 93,
     "metadata": {},
     "output_type": "execute_result"
    }
   ],
   "source": [
    "np.hsplit(a, 2)"
   ]
  },
  {
   "cell_type": "code",
   "execution_count": 94,
   "id": "cf420e38-4c15-4ce4-8247-1c15ef4c0b97",
   "metadata": {},
   "outputs": [
    {
     "data": {
      "text/plain": [
       "[array([[6., 7., 6.],\n",
       "        [8., 5., 5.]]),\n",
       " array([[9.],\n",
       "        [7.]]),\n",
       " array([[0., 5., 4., 0., 6., 8., 5., 2.],\n",
       "        [1., 8., 6., 7., 1., 8., 1., 0.]])]"
      ]
     },
     "execution_count": 94,
     "metadata": {},
     "output_type": "execute_result"
    }
   ],
   "source": [
    "np.hsplit(a, (3, 4))"
   ]
  },
  {
   "cell_type": "markdown",
   "id": "5f249562-aac1-4f81-b7b9-65ca81e8fb9a",
   "metadata": {},
   "source": [
    "`vsplit` разделяет по вертикальной оси, а `array_split` позволяет указать, по какой оси разделять."
   ]
  },
  {
   "cell_type": "markdown",
   "id": "29699fdc-9e91-431b-8454-c65fbe03c2cf",
   "metadata": {},
   "source": [
    "## Копии и просмотры"
   ]
  },
  {
   "cell_type": "markdown",
   "id": "b9fe680c-e76b-47b7-8371-94b7cef1b7ab",
   "metadata": {},
   "source": [
    "При работе с массивами и манипулировании ими их данные иногда копируются в новый массив, а иногда нет. Это часто становится источником путаницы для новичков. Существует три случая:"
   ]
  },
  {
   "cell_type": "markdown",
   "id": "0c921648-03bc-49d1-b01a-818353a35fba",
   "metadata": {},
   "source": [
    "### Распространенная ошибка"
   ]
  },
  {
   "cell_type": "markdown",
   "id": "9082e089-7138-4271-8a2b-574a755bf043",
   "metadata": {},
   "source": [
    "Простые присваивания не создают копий объектов или их данных."
   ]
  },
  {
   "cell_type": "code",
   "execution_count": 95,
   "id": "e3006a3b-ca53-473c-b6c9-6acf0ef01e97",
   "metadata": {},
   "outputs": [],
   "source": [
    "a = np.array([[ 0,  1,  2,  3],\n",
    "              [ 4,  5,  6,  7],\n",
    "              [ 8,  9, 10, 11]])\n",
    "b = a # новый объект не создается"
   ]
  },
  {
   "cell_type": "code",
   "execution_count": 96,
   "id": "dddfd29d-4517-4a07-821b-48886ebdbab6",
   "metadata": {},
   "outputs": [
    {
     "data": {
      "text/plain": [
       "True"
      ]
     },
     "execution_count": 96,
     "metadata": {},
     "output_type": "execute_result"
    }
   ],
   "source": [
    "b is a # a и b — это два имени одного и того же объекта ndarray"
   ]
  },
  {
   "cell_type": "code",
   "execution_count": 97,
   "id": "2bf30eeb-38d1-411a-99ae-c9caae76d3fb",
   "metadata": {},
   "outputs": [
    {
     "name": "stdout",
     "output_type": "stream",
     "text": [
      "[[10 10 10 10]\n",
      " [ 4  5  6  7]\n",
      " [ 8  9 10 11]]\n"
     ]
    }
   ],
   "source": [
    "a[0] = 10\n",
    "print(b)"
   ]
  },
  {
   "cell_type": "markdown",
   "id": "f5017f41-2602-44cb-b916-3cfca3e36622",
   "metadata": {},
   "source": [
    "Python передает изменяемые объекты как ссылки, поэтому вызовы функций не создают копий."
   ]
  },
  {
   "cell_type": "code",
   "execution_count": 98,
   "id": "51b79394-0ed1-4eed-8f50-5e611661ff55",
   "metadata": {},
   "outputs": [],
   "source": [
    "def f(x):\n",
    "    print(id(x))"
   ]
  },
  {
   "cell_type": "code",
   "execution_count": 99,
   "id": "55053af9-b15e-4ba0-a0b2-6ebf78479fe2",
   "metadata": {},
   "outputs": [
    {
     "data": {
      "text/plain": [
       "135509846381968"
      ]
     },
     "execution_count": 99,
     "metadata": {},
     "output_type": "execute_result"
    }
   ],
   "source": [
    "id(a) # id — уникальный идентификатор объекта"
   ]
  },
  {
   "cell_type": "code",
   "execution_count": 100,
   "id": "b5ccf52c-c0da-4928-b635-e9ada2056920",
   "metadata": {},
   "outputs": [
    {
     "name": "stdout",
     "output_type": "stream",
     "text": [
      "135509846381968\n"
     ]
    }
   ],
   "source": [
    "f(a)"
   ]
  },
  {
   "cell_type": "code",
   "execution_count": 101,
   "id": "3b1d8c57-a74f-400e-bbe1-76843d14e55a",
   "metadata": {},
   "outputs": [
    {
     "name": "stdout",
     "output_type": "stream",
     "text": [
      "135509846381968\n"
     ]
    }
   ],
   "source": [
    "f(b)"
   ]
  },
  {
   "cell_type": "markdown",
   "id": "899194b6-8095-4f7d-890f-851ae6990018",
   "metadata": {},
   "source": [
    "### Просмотр или поверхностная копия"
   ]
  },
  {
   "cell_type": "markdown",
   "id": "fe9039a0-fe8f-4f7b-8f5b-edfc5c472c61",
   "metadata": {},
   "source": [
    "Различные объекты массива могут совместно использовать одни и те же данные. Метод `view` создает новый объект массива, который просматривает те же данные."
   ]
  },
  {
   "cell_type": "code",
   "execution_count": 102,
   "id": "ac6c3bf9-bfdb-4609-9d98-eb8f1da5dc29",
   "metadata": {},
   "outputs": [
    {
     "data": {
      "text/plain": [
       "False"
      ]
     },
     "execution_count": 102,
     "metadata": {},
     "output_type": "execute_result"
    }
   ],
   "source": [
    "c = a.view()\n",
    "c is a"
   ]
  },
  {
   "cell_type": "code",
   "execution_count": 103,
   "id": "9c779766-c6c2-41fb-b627-644506e0837b",
   "metadata": {},
   "outputs": [
    {
     "data": {
      "text/plain": [
       "True"
      ]
     },
     "execution_count": 103,
     "metadata": {},
     "output_type": "execute_result"
    }
   ],
   "source": [
    "c.base is a # c — это представление данных, принадлежащих a"
   ]
  },
  {
   "cell_type": "code",
   "execution_count": 104,
   "id": "93021a4c-0ab0-4216-be3b-2ccdca819c14",
   "metadata": {},
   "outputs": [
    {
     "data": {
      "text/plain": [
       "False"
      ]
     },
     "execution_count": 104,
     "metadata": {},
     "output_type": "execute_result"
    }
   ],
   "source": [
    "c.flags.owndata"
   ]
  },
  {
   "cell_type": "code",
   "execution_count": 105,
   "id": "8e235550-2843-4548-a337-91e33a94aac9",
   "metadata": {},
   "outputs": [
    {
     "name": "stdout",
     "output_type": "stream",
     "text": [
      "[[10 10 10 10]\n",
      " [ 4  5  6  7]\n",
      " [ 8  9 10 11]]\n",
      "[[10 10 10 10  4  5]\n",
      " [ 6  7  8  9 10 11]]\n"
     ]
    }
   ],
   "source": [
    "c = c.reshape((2, 6)) # форма a не меняется, переназначенное c по-прежнему является видом a\n",
    "print(a)\n",
    "print(c)"
   ]
  },
  {
   "cell_type": "markdown",
   "id": "eafb0fa2-11b3-4e17-9c97-8f251627cfdf",
   "metadata": {},
   "source": [
    "Разрезание массива возвращает его представление:"
   ]
  },
  {
   "cell_type": "code",
   "execution_count": 106,
   "id": "817b1624-0b8e-4d17-8c6a-64082b28b5f0",
   "metadata": {},
   "outputs": [],
   "source": [
    "s = a[:, 1:3]\n",
    "s[:] = 10 # s[:] — это представление s. Обратите внимание на разницу между s = 10 и s[:] = 10"
   ]
  },
  {
   "cell_type": "code",
   "execution_count": 107,
   "id": "5aee0a14-3e50-4d4e-a138-7e5fdbe4a2b2",
   "metadata": {},
   "outputs": [
    {
     "name": "stdout",
     "output_type": "stream",
     "text": [
      "[[10 10]\n",
      " [10 10]\n",
      " [10 10]]\n",
      "[[10 10 10 10]\n",
      " [ 4 10 10  7]\n",
      " [ 8 10 10 11]]\n"
     ]
    }
   ],
   "source": [
    "print(s)\n",
    "print(a)"
   ]
  },
  {
   "cell_type": "markdown",
   "id": "335b1a49-dab7-45fb-bf63-d3867f911ec2",
   "metadata": {},
   "source": [
    "### Глубокая копия"
   ]
  },
  {
   "cell_type": "markdown",
   "id": "68499fb5-bd3a-41f9-8a32-e1219491ef71",
   "metadata": {},
   "source": [
    "Метод `copy` создает полную копию массива и его данных."
   ]
  },
  {
   "cell_type": "code",
   "execution_count": 108,
   "id": "66e66f5e-f2bd-4a31-bccd-0a2ee20a57cf",
   "metadata": {},
   "outputs": [
    {
     "data": {
      "text/plain": [
       "False"
      ]
     },
     "execution_count": 108,
     "metadata": {},
     "output_type": "execute_result"
    }
   ],
   "source": [
    "d = a.copy() # создается новый объект массива с новыми данными\n",
    "d is a"
   ]
  },
  {
   "cell_type": "code",
   "execution_count": 109,
   "id": "ed906fb3-f1f6-4327-85d7-975fe5f7a26e",
   "metadata": {},
   "outputs": [
    {
     "data": {
      "text/plain": [
       "False"
      ]
     },
     "execution_count": 109,
     "metadata": {},
     "output_type": "execute_result"
    }
   ],
   "source": [
    "d.base is a # d не имеет общего доступа к чему-либо из a"
   ]
  },
  {
   "cell_type": "code",
   "execution_count": 110,
   "id": "57c4b5e6-253d-4d23-b9e9-f63a1bf25be0",
   "metadata": {},
   "outputs": [
    {
     "data": {
      "text/plain": [
       "array([[10, 10, 10, 10],\n",
       "       [ 4, 10, 10,  7],\n",
       "       [ 8, 10, 10, 11]])"
      ]
     },
     "execution_count": 110,
     "metadata": {},
     "output_type": "execute_result"
    }
   ],
   "source": [
    "d[0, 0] = 9999\n",
    "a"
   ]
  },
  {
   "cell_type": "markdown",
   "id": "f64050cb-fbd0-442e-ab43-9cffbf61118b",
   "metadata": {},
   "source": [
    "Иногда `copy` следует вызывать после среза, если исходный массив больше не требуется. Например, предположим, что `a` — это огромный промежуточный результат, а конечный результат `b` содержит лишь малую часть `a`, тогда при построении `b` со срезом следует сделать глубокую копию:"
   ]
  },
  {
   "cell_type": "code",
   "execution_count": 111,
   "id": "3ae1e69a-0ecb-4fea-9c3b-c8e8114b05a6",
   "metadata": {},
   "outputs": [],
   "source": [
    "a = np.arange(int(1e8))\n",
    "b = a[:100].copy()\n",
    "del a  # память `a` может быть освобождена."
   ]
  },
  {
   "cell_type": "markdown",
   "id": "857d18a3-b5b7-4ebf-b420-d64514ceaaf3",
   "metadata": {},
   "source": [
    "Если вместо этого используется `b = a[:100]`, `a` будет ссылаться на `b` и будет сохраняться в памяти, даже если будет выполнено `del a`."
   ]
  },
  {
   "cell_type": "markdown",
   "id": "c02a99de-ed70-4213-a003-ba1b644f3eb2",
   "metadata": {},
   "source": [
    "## Расширенное индексирование и приемы индексирования"
   ]
  },
  {
   "cell_type": "markdown",
   "id": "6a256326-2dc8-427c-8561-c04445b381f5",
   "metadata": {},
   "source": [
    "NumPy предлагает больше возможностей индексирования, чем обычные последовательности Python. В дополнение к индексированию по целым числам и срезам, как мы видели ранее, массивы могут индексироваться массивами целых чисел и массивами булевых значений."
   ]
  },
  {
   "cell_type": "markdown",
   "id": "d6efce27-4787-4217-9b57-6d20644565c4",
   "metadata": {},
   "source": [
    "#### Индексирование с помощью массивов индексов"
   ]
  },
  {
   "cell_type": "code",
   "execution_count": 112,
   "id": "3b834ae6-e944-47ed-accc-e8eb965c79d2",
   "metadata": {},
   "outputs": [
    {
     "data": {
      "text/plain": [
       "array([ 1,  1,  9, 64, 25])"
      ]
     },
     "execution_count": 112,
     "metadata": {},
     "output_type": "execute_result"
    }
   ],
   "source": [
    "a = np.arange(12)**2 # первые 12 квадратных чисел\n",
    "i = np.array([1, 1, 3, 8, 5]) # массив индексов\n",
    "a[i] # элементы `a` в позициях `i`"
   ]
  },
  {
   "cell_type": "code",
   "execution_count": 113,
   "id": "2658d81e-1ede-4f74-ae1f-90735002c9e1",
   "metadata": {},
   "outputs": [
    {
     "data": {
      "text/plain": [
       "array([[ 9, 16],\n",
       "       [81, 49]])"
      ]
     },
     "execution_count": 113,
     "metadata": {},
     "output_type": "execute_result"
    }
   ],
   "source": [
    "j = np.array([[3, 4], [9, 7]]) # двумерный массив индексов\n",
    "a[j] # та же форма, что и `j`"
   ]
  },
  {
   "cell_type": "markdown",
   "id": "4092c626-91e8-4b52-865f-7018f9119592",
   "metadata": {},
   "source": [
    "Когда индексированный массив `a` является многомерным, один массив индексов ссылается на первое измерение `a`. Следующий пример демонстрирует это поведение путем преобразования изображения меток в цветное изображение с использованием палитры."
   ]
  },
  {
   "cell_type": "code",
   "execution_count": 114,
   "id": "e7668dda-b182-4911-b54c-9b21b14a22ab",
   "metadata": {},
   "outputs": [
    {
     "data": {
      "text/plain": [
       "array([[[  0,   0,   0],\n",
       "        [255,   0,   0],\n",
       "        [  0, 255,   0],\n",
       "        [  0,   0,   0]],\n",
       "\n",
       "       [[  0,   0,   0],\n",
       "        [  0,   0, 255],\n",
       "        [255, 255, 255],\n",
       "        [  0,   0,   0]]])"
      ]
     },
     "execution_count": 114,
     "metadata": {},
     "output_type": "execute_result"
    }
   ],
   "source": [
    "palette = np.array([[0, 0, 0],        # черный\n",
    "                    [255, 0, 0],      # красный\n",
    "                    [0, 255, 0],      # зеленый\n",
    "                    [0, 0, 255],      # синий\n",
    "                    [255, 255, 255]]) # белый\n",
    "image = np.array([[0, 1, 2, 0],       # каждое значение соответствует цвету в палитре\n",
    "                  [0, 3, 4, 0]])\n",
    "palette[image]                        # изображение цвета (2, 4, 3)"
   ]
  },
  {
   "cell_type": "markdown",
   "id": "7e2174b5-bc32-4b6e-81b6-e7fb3fa0d8cc",
   "metadata": {},
   "source": [
    "Мы также можем задать индексы для более чем одного измерения. Массивы индексов для каждого измерения должны иметь одинаковую форму."
   ]
  },
  {
   "cell_type": "code",
   "execution_count": 115,
   "id": "21be7d1b-d490-4574-92ec-b89333cf3bf3",
   "metadata": {},
   "outputs": [
    {
     "data": {
      "text/plain": [
       "array([[ 0,  1,  2,  3],\n",
       "       [ 4,  5,  6,  7],\n",
       "       [ 8,  9, 10, 11]])"
      ]
     },
     "execution_count": 115,
     "metadata": {},
     "output_type": "execute_result"
    }
   ],
   "source": [
    "a = np.arange(12).reshape(3, 4)\n",
    "a"
   ]
  },
  {
   "cell_type": "code",
   "execution_count": 116,
   "id": "6ac496e2-1576-44be-af93-2f552691d8fa",
   "metadata": {},
   "outputs": [
    {
     "data": {
      "text/plain": [
       "array([[ 2,  5],\n",
       "       [ 7, 11]])"
      ]
     },
     "execution_count": 116,
     "metadata": {},
     "output_type": "execute_result"
    }
   ],
   "source": [
    "i = np.array([[0, 1],  # индексы для первого размера `a`\n",
    "              [1, 2]])\n",
    "\n",
    "j = np.array([[2, 1],  # индексы для второго размера\n",
    "              [3, 3]])\n",
    "a[i, j]                # i и j должны иметь одинаковую форму"
   ]
  },
  {
   "cell_type": "code",
   "execution_count": 117,
   "id": "a932ec77-2fd5-4927-876a-c74cf746adf4",
   "metadata": {},
   "outputs": [
    {
     "data": {
      "text/plain": [
       "array([[ 2,  6],\n",
       "       [ 6, 10]])"
      ]
     },
     "execution_count": 117,
     "metadata": {},
     "output_type": "execute_result"
    }
   ],
   "source": [
    "a[i, 2]"
   ]
  },
  {
   "cell_type": "code",
   "execution_count": 118,
   "id": "b75456a2-ee63-4e46-8200-2c7a9541262c",
   "metadata": {},
   "outputs": [
    {
     "data": {
      "text/plain": [
       "array([[[ 2,  1],\n",
       "        [ 3,  3]],\n",
       "\n",
       "       [[ 6,  5],\n",
       "        [ 7,  7]],\n",
       "\n",
       "       [[10,  9],\n",
       "        [11, 11]]])"
      ]
     },
     "execution_count": 118,
     "metadata": {},
     "output_type": "execute_result"
    }
   ],
   "source": [
    "a[:, j]"
   ]
  },
  {
   "cell_type": "markdown",
   "id": "d49c56ec-ca88-4a23-8e68-8a562fc90928",
   "metadata": {},
   "source": [
    "### Индексирование с помощью булевых массивов"
   ]
  },
  {
   "cell_type": "markdown",
   "id": "4048eb62-45ac-4593-854e-b396c92886b2",
   "metadata": {},
   "source": [
    "Когда мы индексируем массивы с помощью массивов (целочисленных) индексов, мы предоставляем список индексов для выбора. С булевыми индексами подход другой; мы явно выбираем, какие элементы в массиве нам нужны, а какие нет.\n",
    "\n",
    "Самый естественный способ, который можно придумать для булевой индексации, — это использовать булевые массивы, которые имеют ту же форму, что и исходный массив:"
   ]
  },
  {
   "cell_type": "code",
   "execution_count": 119,
   "id": "bbe4c496-551d-4cce-940e-e2523cc3df0c",
   "metadata": {},
   "outputs": [
    {
     "data": {
      "text/plain": [
       "array([[False, False, False, False],\n",
       "       [False,  True,  True,  True],\n",
       "       [ True,  True,  True,  True]])"
      ]
     },
     "execution_count": 119,
     "metadata": {},
     "output_type": "execute_result"
    }
   ],
   "source": [
    "a = np.arange(12).reshape(3, 4)\n",
    "b = a > 4\n",
    "b # `b` — это логическое значение с формой `a`"
   ]
  },
  {
   "cell_type": "code",
   "execution_count": 120,
   "id": "04cf88a2-8eda-4697-b466-8d4e7655ee84",
   "metadata": {},
   "outputs": [
    {
     "data": {
      "text/plain": [
       "array([ 5,  6,  7,  8,  9, 10, 11])"
      ]
     },
     "execution_count": 120,
     "metadata": {},
     "output_type": "execute_result"
    }
   ],
   "source": [
    "a[b] # 1d массив с выбранными элементами"
   ]
  },
  {
   "cell_type": "markdown",
   "id": "f9c00d4e-aec3-42cc-96b9-5589c6f3ea1a",
   "metadata": {},
   "source": [
    "Это свойство может быть очень полезным в заданиях:"
   ]
  },
  {
   "cell_type": "code",
   "execution_count": 121,
   "id": "02b51f1f-51c2-45a0-973d-7f182883c5a5",
   "metadata": {},
   "outputs": [
    {
     "data": {
      "text/plain": [
       "array([[0, 1, 2, 3],\n",
       "       [4, 0, 0, 0],\n",
       "       [0, 0, 0, 0]])"
      ]
     },
     "execution_count": 121,
     "metadata": {},
     "output_type": "execute_result"
    }
   ],
   "source": [
    "a[b] = 0 # Все элементы `a` выше 4 становятся 0\n",
    "a"
   ]
  },
  {
   "cell_type": "markdown",
   "id": "eadd4eb0-936a-47c2-bf9c-c077477af1d7",
   "metadata": {},
   "source": [
    "На следующем примере, можно увидеть, как использовать булеву индексацию для генерации изображения множества Мандельброта:"
   ]
  },
  {
   "cell_type": "code",
   "execution_count": 122,
   "id": "8561292c-f351-40d6-9fea-02c48c50be39",
   "metadata": {},
   "outputs": [
    {
     "data": {
      "text/plain": [
       "<matplotlib.image.AxesImage at 0x7b3ec07702f0>"
      ]
     },
     "execution_count": 122,
     "metadata": {},
     "output_type": "execute_result"
    },
    {
     "data": {
      "image/png": "[encoded data removed]",
      "text/plain": [
       "<Figure size 640x480 with 1 Axes>"
      ]
     },
     "metadata": {},
     "output_type": "display_data"
    }
   ],
   "source": [
    "import numpy as np\n",
    "\n",
    "import matplotlib.pyplot as plt\n",
    "def mandelbrot(h, w, maxit=20, r=2):\n",
    "    \"\"\"Возвращает изображение фрактала Мандельброта размером (высота, ширина).\"\"\"\n",
    "\n",
    "    x = np.linspace(-2.5, 1.5, 4*h+1)                   # координаты по горизонтали\n",
    "    y = np.linspace(-1.5, 1.5, 3*w+1)                   # координаты по вертикали\n",
    "\n",
    "    A, B = np.meshgrid(x, y)                            # создаем сетку координат\n",
    "    C = A + B*1j                                        # создаем комплексную плоскость\n",
    "    z = np.zeros_like(C)                                # инициализируем переменную z нулями\n",
    "\n",
    "    divtime = maxit + np.zeros(z.shape, dtype=int)\n",
    "\n",
    "    for i in range(maxit):\n",
    "        z = z**2 + C\n",
    "        diverge = abs(z) > r                            # какие значения начинают расходиться\n",
    "        div_now = diverge & (divtime == maxit)          # расходятся в текущую итерацию\n",
    "        divtime[div_now] = i                            # записываем, на какой итерации\n",
    "        z[diverge] = r                                  # ограничиваем значения, которые расходятся\n",
    "\n",
    "\n",
    "    return divtime\n",
    "\n",
    "plt.clf()\n",
    "plt.imshow(mandelbrot(400, 400))"
   ]
  },
  {
   "cell_type": "markdown",
   "id": "b95afdb1-527b-4c1c-9506-c81285a1ae1b",
   "metadata": {},
   "source": [
    "### The ix_() function"
   ]
  },
  {
   "cell_type": "markdown",
   "id": "34a09d67-a629-483e-a381-d4488cebc0f1",
   "metadata": {},
   "source": [
    "Функцию `ix_` можно использовать для объединения различных векторов, чтобы получить результат для каждого $n$-аплета. Например, если вы хотите вычислить все $a+b\\cdot c$ для всех триплетов, взятых из каждого из векторов $a$, $b$ и $c$:"
   ]
  },
  {
   "cell_type": "code",
   "execution_count": 123,
   "id": "7793cdf3-5fef-44c5-af86-25df13c42194",
   "metadata": {},
   "outputs": [
    {
     "data": {
      "text/plain": [
       "array([[[2]],\n",
       "\n",
       "       [[3]],\n",
       "\n",
       "       [[4]],\n",
       "\n",
       "       [[5]]])"
      ]
     },
     "execution_count": 123,
     "metadata": {},
     "output_type": "execute_result"
    }
   ],
   "source": [
    "a = np.array([2, 3, 4, 5])\n",
    "b = np.array([8, 5, 4])\n",
    "c = np.array([5, 4, 6, 8, 3])\n",
    "ax, bx, cx = np.ix_(a, b, c)\n",
    "ax"
   ]
  },
  {
   "cell_type": "code",
   "execution_count": 124,
   "id": "9d72b397-4118-4387-a4a8-8d5a8ad8510d",
   "metadata": {},
   "outputs": [
    {
     "data": {
      "text/plain": [
       "array([[[8],\n",
       "        [5],\n",
       "        [4]]])"
      ]
     },
     "execution_count": 124,
     "metadata": {},
     "output_type": "execute_result"
    }
   ],
   "source": [
    "bx"
   ]
  },
  {
   "cell_type": "code",
   "execution_count": 125,
   "id": "c3fbe768-f370-4019-bf87-7b1d60e45041",
   "metadata": {},
   "outputs": [
    {
     "data": {
      "text/plain": [
       "array([[[5, 4, 6, 8, 3]]])"
      ]
     },
     "execution_count": 125,
     "metadata": {},
     "output_type": "execute_result"
    }
   ],
   "source": [
    "cx"
   ]
  },
  {
   "cell_type": "code",
   "execution_count": 126,
   "id": "4bd7ea7c-215a-4de7-8422-1f6b3b853af4",
   "metadata": {},
   "outputs": [
    {
     "data": {
      "text/plain": [
       "array([[[42, 34, 50, 66, 26],\n",
       "        [27, 22, 32, 42, 17],\n",
       "        [22, 18, 26, 34, 14]],\n",
       "\n",
       "       [[43, 35, 51, 67, 27],\n",
       "        [28, 23, 33, 43, 18],\n",
       "        [23, 19, 27, 35, 15]],\n",
       "\n",
       "       [[44, 36, 52, 68, 28],\n",
       "        [29, 24, 34, 44, 19],\n",
       "        [24, 20, 28, 36, 16]],\n",
       "\n",
       "       [[45, 37, 53, 69, 29],\n",
       "        [30, 25, 35, 45, 20],\n",
       "        [25, 21, 29, 37, 17]]], shape=(4, 3, 5))"
      ]
     },
     "execution_count": 126,
     "metadata": {},
     "output_type": "execute_result"
    }
   ],
   "source": [
    "result = ax + bx * cx\n",
    "result"
   ]
  },
  {
   "cell_type": "code",
   "execution_count": 127,
   "id": "899a2c0c-5e41-4237-b1f2-e8b7c954bae1",
   "metadata": {},
   "outputs": [
    {
     "data": {
      "text/plain": [
       "np.int64(17)"
      ]
     },
     "execution_count": 127,
     "metadata": {},
     "output_type": "execute_result"
    }
   ],
   "source": [
    "result[3, 2, 4]"
   ]
  },
  {
   "cell_type": "code",
   "execution_count": 128,
   "id": "e7a082f6-92d0-4732-91d8-e67704c97c62",
   "metadata": {},
   "outputs": [
    {
     "data": {
      "text/plain": [
       "np.int64(17)"
      ]
     },
     "execution_count": 128,
     "metadata": {},
     "output_type": "execute_result"
    }
   ],
   "source": [
    "a[3] + b[2] * c[4]"
   ]
  },
  {
   "cell_type": "markdown",
   "id": "52278a83-621c-4fa1-8f70-a4aa88117a1b",
   "metadata": {},
   "source": [
    "Вы также можете реализовать сокращение следующим образом:"
   ]
  },
  {
   "cell_type": "code",
   "execution_count": 129,
   "id": "864cdce6-5480-407a-b801-3dd999a9b8ce",
   "metadata": {},
   "outputs": [],
   "source": [
    "def ufunc_reduce(ufct, *vectors):\n",
    "   vs = np.ix_(*vectors)\n",
    "   r = ufct.identity\n",
    "   for v in vs:\n",
    "       r = ufct(r, v)\n",
    "   return r"
   ]
  },
  {
   "cell_type": "code",
   "execution_count": 130,
   "id": "39082f02-fe2b-4cf7-bedd-8bd25d6e8c68",
   "metadata": {},
   "outputs": [
    {
     "data": {
      "text/plain": [
       "array([[[15, 14, 16, 18, 13],\n",
       "        [12, 11, 13, 15, 10],\n",
       "        [11, 10, 12, 14,  9]],\n",
       "\n",
       "       [[16, 15, 17, 19, 14],\n",
       "        [13, 12, 14, 16, 11],\n",
       "        [12, 11, 13, 15, 10]],\n",
       "\n",
       "       [[17, 16, 18, 20, 15],\n",
       "        [14, 13, 15, 17, 12],\n",
       "        [13, 12, 14, 16, 11]],\n",
       "\n",
       "       [[18, 17, 19, 21, 16],\n",
       "        [15, 14, 16, 18, 13],\n",
       "        [14, 13, 15, 17, 12]]], shape=(4, 3, 5))"
      ]
     },
     "execution_count": 130,
     "metadata": {},
     "output_type": "execute_result"
    }
   ],
   "source": [
    "ufunc_reduce(np.add, a, b, c)"
   ]
  },
  {
   "cell_type": "markdown",
   "id": "ad42900a-a366-438e-a496-8f28f20b3319",
   "metadata": {},
   "source": [
    "Преимущество этой версии reduce по сравнению с обычной ufunc.reduce заключается в том, что она использует правила трансляции, чтобы избежать создания массива аргументов размером с выходной файл, умноженный на количество векторов."
   ]
  },
  {
   "cell_type": "markdown",
   "id": "a61666ab-6455-49ac-acc8-73cc851324cd",
   "metadata": {},
   "source": [
    "## Задания"
   ]
  },
  {
   "cell_type": "markdown",
   "id": "ecacd355-a6d9-4a19-81af-9c874c9c1187",
   "metadata": {},
   "source": [
    "### Задание 1"
   ]
  },
  {
   "attachments": {},
   "cell_type": "markdown",
   "id": "d0291969-934f-4beb-8d70-f301eee36f50",
   "metadata": {},
   "source": [
    "1. Задать массив $X$ несколькими способами.\n",
    "\n",
    "$$X=\\left[-15, -14, -13, -12, -11, -10, -9, -8, -7, -6, -5, -4, -3, -2, -1, 0, 1, 2, 3, 4, 5, 6, 7, 8, 9, 10, 11, 12, 13, 14, 15\\right].$$"
   ]
  },
  {
   "cell_type": "markdown",
   "id": "8cc9e42c-d7ee-4fb8-84be-ae696efe88da",
   "metadata": {},
   "source": [
    "2. Найти количество элементов в $Х$, обозначить $n$."
   ]
  },
  {
   "cell_type": "markdown",
   "id": "d7688625-540f-40c7-8bf4-2dfd76a6b2b5",
   "metadata": {},
   "source": [
    "3. Создать «дубликат» массива $X$, обозначим его как $\\tilde X$. Не изменяя $X$ изменить в $\\tilde X$ элемент равный $0$ на $1$."
   ]
  },
  {
   "cell_type": "markdown",
   "id": "fc18cb5d-b53b-43eb-91a5-384968f1d03b",
   "metadata": {},
   "source": [
    "4. Задать последовательность $Y$ для $i$ от $a$ до $b$ (с шагом $h$), где элементы определяются формулой:\n",
    "$$Y_i=\\frac{1}{i},\\quad i\\in\\left\\{a, a+h, a+2h, \\ldots, b\\right\\},\\quad i\\neq 0.$$"
   ]
  },
  {
   "cell_type": "markdown",
   "id": "86d491c2-c8c0-43f1-b820-73059efe420d",
   "metadata": {},
   "source": [
    "5. Сгенерировать вложенную последовательность из $X=\\left\\{x_1,x_2,\\ldots,x_n\\right\\}$ (пункт 1) и $Y=\\left\\{y_1,y_2,\\ldots,y_n\\right\\}$ (пункт 4, взять $a=-15$, $b=15$):\n",
    "$$Z=\\left\\{(x_1,y_1),(x_2,y_2),\\ldots,(x_n,y_n)\\right\\}.$$"
   ]
  },
  {
   "cell_type": "markdown",
   "id": "9c06dd8e-af02-4d17-a60e-94217caeba30",
   "metadata": {},
   "source": [
    "### Задание 2"
   ]
  },
  {
   "cell_type": "markdown",
   "id": "99da4f9d-835b-43e3-a10f-313dc42d9ecf",
   "metadata": {},
   "source": [
    "В одномерном массиве, состоящем из $n$ вещественных элементов, вычислить:\n",
    "- сумму положительных элементов массива;\n",
    "- произведение элементов массива, расположенных между максимальным по модулю и минимальным по модулю элементами;\n",
    "- сумму элементов массива с нечетными номерами;\n",
    "- сумму элементов массива, расположенных между первым и последним отрицательными элементами;\n",
    "- упорядочить элементы массива по возрастанию;\n",
    "- упорядочить элементы массива по убыванию;\n",
    "- сжать массив, удалив из него все элементы, модуль которых не превышает 1.\n",
    "\n",
    "Входные данные смоделировать самостоятельно."
   ]
  },
  {
   "cell_type": "markdown",
   "id": "0fc55067-b2f2-4bf0-b8db-d8d474eb8c43",
   "metadata": {},
   "source": [
    "### Задание 3"
   ]
  },
  {
   "cell_type": "markdown",
   "id": "bea9db12-2434-4a62-9522-53dc9f269cdb",
   "metadata": {},
   "source": [
    "Для заданной матрицы размером 8 на 8 найти такие $k$, что $k$-я строка матрицы совпадает с $k$-м столбцом."
   ]
  },
  {
   "cell_type": "markdown",
   "id": "b8c4a79b-4458-4bde-bccd-f80cb3b75152",
   "metadata": {},
   "source": [
    "Найти сумму элементов в тех строках, которые содержат хотя бы один отрицательный элемент."
   ]
  },
  {
   "cell_type": "markdown",
   "id": "ad1e237a-761f-40f1-821b-0b7f6c4cae2c",
   "metadata": {},
   "source": [
    "### Задание 4"
   ]
  },
  {
   "cell_type": "markdown",
   "id": "c72ab6a5-c72f-41e1-ba64-c33076bf3d14",
   "metadata": {},
   "source": [
    "Преобразовать вектор целых чисел в матричное двоичное представление."
   ]
  },
  {
   "cell_type": "markdown",
   "id": "7eb78ab2-81a1-4a2c-b7f2-d26e981a7ab8",
   "metadata": {},
   "source": [
    "Например вектору $(0, 1, 2, 3, 4, 5, 6, 7)$ будет соответствовать матрица\n",
    "$$\n",
    "\\begin{pmatrix}\n",
    "0 & 0 & 0 \\\\\n",
    "0 & 0 & 1 \\\\\n",
    "0 & 1 & 0 \\\\\n",
    "0 & 1 & 1 \\\\\n",
    "1 & 0 & 0 \\\\\n",
    "1 & 0 & 1 \\\\\n",
    "1 & 1 & 0 \\\\\n",
    "1 & 1 & 1\n",
    "\\end{pmatrix}.\n",
    "$$"
   ]
  },
  {
   "cell_type": "markdown",
   "id": "9d2899b9-5d81-4934-afd7-b9fbb5c812ca",
   "metadata": {},
   "source": [
    "### Задание 5"
   ]
  },
  {
   "cell_type": "markdown",
   "id": "2a0e0749-f922-4400-9dd4-3fcb52e1da1c",
   "metadata": {},
   "source": [
    "Рассмотрим два массива $A$ и $B$ формы $(8, 3)$ и $(2, 2)$. Необходимо найти строки $A$, которые содержат элементы каждой строки $B$ независимо от порядка элементов в $B$. Например, если\n",
    "$$\n",
    "A = \\begin{pmatrix}\n",
    "0 & 0 & 3 \\\\\n",
    "1 & 1 & 2 \\\\\n",
    "4 & 3 & 1 \\\\\n",
    "3 & 1 & 1 \\\\\n",
    "1 & 3 & 1 \\\\\n",
    "2 & 0 & 3 \\\\\n",
    "2 & 0 & 1 \\\\\n",
    "0 & 0 & 3\n",
    "\\end{pmatrix},\\quad\n",
    "B = \\begin{pmatrix}\n",
    "0 & 3 \\\\\n",
    "0 & 2 \\\\\n",
    "\\end{pmatrix},\n",
    "$$\n",
    "результат будет $\\left(0, 5, 6, 7\\right)$.\n"
   ]
  }
 ],
 "metadata": {
  "kernelspec": {
   "display_name": "Python 3 (ipykernel)",
   "language": "python",
   "name": "python3"
  },
  "language_info": {
   "codemirror_mode": {
    "name": "ipython",
    "version": 3
   },
   "file_extension": ".py",
   "mimetype": "text/x-python",
   "name": "python",
   "nbconvert_exporter": "python",
   "pygments_lexer": "ipython3",
   "version": "3.13.2"
  }
 },
 "nbformat": 4,
 "nbformat_minor": 5
}
