{
 "cells": [
  {
   "cell_type": "markdown",
   "id": "a68a1eb7-c5d1-4e26-b773-f3740676c38e",
   "metadata": {},
   "source": [
    "# Тема 1. Python. Общие сведения"
   ]
  },
  {
   "cell_type": "markdown",
   "id": "4a672106-567f-4e14-8343-f8601da7e016",
   "metadata": {},
   "source": [
    "## Введение\n",
    "\n",
    "### Установка Python и настройка окружения\n",
    "\n",
    "#### Windows\n",
    "\n",
    "1. Скачайте установщик с официального сайта:\n",
    "https://www.python.org/downloads/windows/\n",
    "\n",
    "2. Запустите установщик, обязательно поставьте галочку \"Add Python to PATH\", иначе это нужно будет делать [вручную](https://stackoverflow.com/questions/6318156/adding-python-to-path-on-windows), затем нажмите \"Install Now\".\n",
    "\n",
    "3. После установки проверьте:\n",
    "```shell\n",
    "python --version\n",
    "```"
   ]
  },
  {
   "cell_type": "markdown",
   "id": "af986352-59cd-43cb-871e-d481aa2fe324",
   "metadata": {},
   "source": [
    "#### Linux\n",
    "\n",
    "Во многих дистрибутивах Python обычно уже установлен. Проверьте версию:\n",
    "```shell\n",
    "python --version\n",
    "```\n",
    "или\n",
    "```shell\n",
    "python3 --version\n",
    "```\n",
    "\n",
    "Если все-таки не установлен, то устанавливается с помощью пакетного менеджера.\n",
    "\n",
    "- Arch:\n",
    "```shell\n",
    "sudo pacman -S python\n",
    "```\n",
    "    \n",
    "- Debian/Ubuntu:\n",
    "```shell\n",
    "sudo apt update && sudo apt install python3\n",
    "```\n",
    "\n",
    "- Fedora:\n",
    "```shell\n",
    "sudo dnf install python3\n",
    "```\n",
    "В дальнейшем, для пакета/программы будем использовать обозначение `python`."
   ]
  },
  {
   "cell_type": "markdown",
   "id": "69b72dbe-e7f5-4c9b-b69e-01dfc96f3689",
   "metadata": {},
   "source": [
    "#### MacOS\n",
    "\n",
    "Python 3 уже установлен. Если нужна свежая версия, используйте [Homebrew](https://brew.sh/):\n",
    "```shell\n",
    "brew install python\n",
    "```"
   ]
  },
  {
   "cell_type": "markdown",
   "id": "fd9bfc6a-4a73-487f-ada2-daba01f853e4",
   "metadata": {},
   "source": [
    "## Запуск кода\n",
    "\n",
    "1. Самый простейший способ взаимодействия с Python — запуск кода в интерпретаторе Python.\n",
    "\n",
    "- Введите в терминале:\n",
    "```shell\n",
    "python\n",
    "```\n",
    "\n",
    "- Откроется интерактивная консоль, где можно писать код:\n",
    "```python\n",
    ">>> print(\"Hello, World!\")\n",
    "Hello, World!\n",
    ">>> 2 + 2\n",
    "4\n",
    "```\n",
    "\n",
    "Для выхода используйте: функции `exit()` или `quit()`.\n",
    "Либо **Ctrl + D** (в Linux) или **Ctrl + Z** и **Enter** (в Windows).\n",
    "\n",
    "2. Если у вас есть файл, например, `script.py`, его можно запустить с использованием команды `python` в терминале:\n",
    "\n",
    "```shell\n",
    "python script.py\n",
    "```\n",
    "Если в файле есть шебанг (`#!/usr/bin/env python`), можно сделать его исполняемым:\n",
    "\n",
    "```shell\n",
    "chmod +x script.py\n",
    "./script.py\n",
    "```\n",
    "\n",
    "3. Немного забегая вперед. Если нужно запустить файл изнутри Python:\n",
    "\n",
    "```python\n",
    "exec(open(\"script.py\").read())\n",
    "```\n",
    "\n",
    "или\n",
    "\n",
    "```python\n",
    "import script\n",
    "```"
   ]
  },
  {
   "cell_type": "markdown",
   "id": "4d787a06-a550-4d32-9ac3-4e5cb2fe6e2b",
   "metadata": {},
   "source": [
    "## Среды разработки, редакторы кода\n",
    "\n",
    "- Блокнот\n",
    "- PyCharm\n",
    "  \n",
    "  Программа платная, но есть Community версия.\n",
    "  \n",
    "- Visual Studio Code\n",
    "- JupyterLab"
   ]
  },
  {
   "cell_type": "markdown",
   "id": "b8ca841b-4e05-478d-92c8-dc669000b27f",
   "metadata": {},
   "source": [
    "## Переменные и типы данных\n",
    "\n",
    "В Python переменные создаются автоматически при присваивании значений:"
   ]
  },
  {
   "cell_type": "code",
   "execution_count": 1,
   "id": "79c4689c-c9cd-49af-accb-7e8ce9716029",
   "metadata": {},
   "outputs": [],
   "source": [
    "x = 10      # Целое число\n",
    "pi = 3.14   # Число с плавающей запятой\n",
    "name = \"Alice\"  # Строка\n",
    "is_valid = True  # Логический тип"
   ]
  },
  {
   "cell_type": "code",
   "execution_count": 2,
   "id": "549a0848-f258-4b4e-8970-df3cb1aaae49",
   "metadata": {},
   "outputs": [
    {
     "name": "stdout",
     "output_type": "stream",
     "text": [
      "10\n",
      "3.14\n",
      "Alice\n",
      "True\n"
     ]
    }
   ],
   "source": [
    "print(x)\n",
    "print(pi)\n",
    "print(name)\n",
    "print(is_valid)"
   ]
  },
  {
   "cell_type": "markdown",
   "id": "60a70c30-7c47-425b-8adc-f9e29b2457a3",
   "metadata": {},
   "source": [
    "Python — **динамически типизированный** язык, поэтому тип переменной определяется автоматически.\n",
    "\n",
    "Основные типы данных:\n",
    "\n",
    "| Тип данных   | Описание                                       | Диапазон/Пределы                               |\n",
    "|--------------|------------------------------------------------|------------------------------------------------|\n",
    "| `int`        | Целые числа                                    | Произвольная точность в Python 3               |\n",
    "| `float`      | Числа с плавающей запятой                      | От $10^{-308}$ до $10^{308}$                   |\n",
    "| `str`        | Строки (Unicode)                               | Не ограничено, зависит от длины строки         |\n",
    "| `bool`       | Логические значения (`True`, `False`)          | Только `True` или `False`                      |\n",
    "| `list`       | Список (массив)                                | Могут содержать элементы любого типа           |\n",
    "| `tuple`      | Кортеж (неизменяемый список)                   | Могут содержать элементы любого типа           |\n",
    "| `dict`       | Словарь (ключ-значение)                        | Ключи должны быть хешируемыми (строки, числа)  |"
   ]
  },
  {
   "cell_type": "code",
   "execution_count": 199,
   "id": "96182c5f-1068-4176-af67-2085adc34248",
   "metadata": {},
   "outputs": [
    {
     "name": "stdout",
     "output_type": "stream",
     "text": [
      "int: 28 bytes\n",
      "float: 24 bytes\n",
      "str: 46 bytes\n",
      "bool: 28 bytes\n",
      "list: 88 bytes\n",
      "tuple: 64 bytes\n",
      "dict: 184 bytes\n"
     ]
    }
   ],
   "source": [
    "# Пример проверки типов и памяти\n",
    "import sys\n",
    "\n",
    "val_int = 0\n",
    "val_float = 3.14\n",
    "val_str = \"hello\"\n",
    "val_bool = True\n",
    "val_list = [1, 2, 3]\n",
    "val_tuple = (1, 2, 3)\n",
    "val_dict = {\"key\": \"value\"}\n",
    "\n",
    "print(f\"int: {sys.getsizeof(val_int)} bytes\")\n",
    "print(f\"float: {sys.getsizeof(val_float)} bytes\")\n",
    "print(f\"str: {sys.getsizeof(val_str)} bytes\")\n",
    "print(f\"bool: {sys.getsizeof(val_bool)} bytes\")\n",
    "print(f\"list: {sys.getsizeof(val_list)} bytes\")\n",
    "print(f\"tuple: {sys.getsizeof(val_tuple)} bytes\")\n",
    "print(f\"dict: {sys.getsizeof(val_dict)} bytes\")"
   ]
  },
  {
   "cell_type": "markdown",
   "id": "7be9728a-6c95-4a87-9fdb-462224673424",
   "metadata": {},
   "source": [
    "### IEEE 754\n",
    "Тип данных `double` в Python, как и в других языках программирования, соответствует числу с плавающей точкой двойной точности, которое регулируется стандартом [IEEE 754](https://en.wikipedia.org/wiki/IEEE_floating_point), который был опубликован в **1985 г.** До этого компьютеры обрабатывали числа с плавающей точкой по-разному!\n",
    "\n",
    "IEEE 754 содержит следующие пункты:\n",
    "- Представление чисел с плавающей точкой: $(-1)^s \\times c \\times b^q$.\n",
    "- Две бесконечности $+\\infty$ and $-\\infty$.\n",
    "- Два типа **NaN**: \"тихий\" NaN (**qNaN**) и сигнализирующий NaN (**sNaN**).\n",
    "    - **qNaN** не бросает исключение на уровне блока, производящего операции с плавающей точкой, (floating point unit – FPU), до того как вы проверите результат вычислений.\n",
    "    - значение **sNaN** бросает исключение из FPU, если вы используете это значение в вычислениях. Этот тип NaN может быть полезен для инициализиции.\n",
    "- Правила **округления**.\n",
    "- Правила для операций типа $\\frac{0}{0}, \\frac{1}{-0}, \\ldots$"
   ]
  },
  {
   "cell_type": "markdown",
   "id": "7b92b48f-a69f-4ac9-9a92-3713c27467d5",
   "metadata": {},
   "source": [
    "#### Пример 1. Потеря точности при делении"
   ]
  },
  {
   "cell_type": "code",
   "execution_count": 125,
   "id": "98f9ec8f-4970-44f5-8846-f19822e86a66",
   "metadata": {},
   "outputs": [
    {
     "name": "stdout",
     "output_type": "stream",
     "text": [
      "0.9015713035512404\n"
     ]
    }
   ],
   "source": [
    "import numpy as np\n",
    "import random\n",
    "c = random.random()\n",
    "print(c)"
   ]
  },
  {
   "cell_type": "code",
   "execution_count": 131,
   "id": "e3659e56-290b-4aea-8fb7-6717e66619f9",
   "metadata": {},
   "outputs": [
    {
     "name": "stdout",
     "output_type": "stream",
     "text": [
      "0.90157127380371093750000000000000000\n",
      "0.08196102827787399291992187500000000\n",
      "5.9604645e-08\n"
     ]
    }
   ],
   "source": [
    "c = np.float32(0.9015713035512404)\n",
    "a = np.float32(11)\n",
    "b = np.float32(c / a)\n",
    "\n",
    "print('{0:10.35f}'.format(c))\n",
    "print('{0:10.35f}'.format(b))\n",
    "\n",
    "print(a * b - c)"
   ]
  },
  {
   "cell_type": "markdown",
   "id": "b6463a5f-eab7-4bf0-952a-8741457f6647",
   "metadata": {},
   "source": [
    "#### Пример 2. Потеря точности при извлечении корня"
   ]
  },
  {
   "cell_type": "code",
   "execution_count": 157,
   "id": "13901000-6fc5-4481-a5c2-1220be11b69e",
   "metadata": {},
   "outputs": [
    {
     "name": "stdout",
     "output_type": "stream",
     "text": [
      "8.881784197001252e-16\n"
     ]
    }
   ],
   "source": [
    "a = np.float64(5.0)\n",
    "b = a ** 0.5\n",
    "print(b ** 2 - a)"
   ]
  },
  {
   "cell_type": "markdown",
   "id": "80743152-4f9c-4f37-8045-8a9a47579751",
   "metadata": {},
   "source": [
    "#### Пример 3. Потеря точности при вычислении экспоненты"
   ]
  },
  {
   "cell_type": "code",
   "execution_count": 180,
   "id": "eddd3856-cb4b-4756-ad50-da5d5538abe8",
   "metadata": {},
   "outputs": [
    {
     "name": "stdout",
     "output_type": "stream",
     "text": [
      "1.1920929e-07\n"
     ]
    }
   ],
   "source": [
    "a = np.array(1, dtype=np.float32)\n",
    "b = np.exp(a)\n",
    "print(np.log(b) - a)"
   ]
  },
  {
   "cell_type": "code",
   "execution_count": 186,
   "id": "2ef36f2a-8982-42cd-aa03-c8229c7e6e0c",
   "metadata": {},
   "outputs": [
    {
     "data": {
      "text/plain": [
       "np.float64(2.6881171418161356e+43)"
      ]
     },
     "execution_count": 186,
     "metadata": {},
     "output_type": "execute_result"
    }
   ],
   "source": [
    "np.exp(100)"
   ]
  },
  {
   "cell_type": "code",
   "execution_count": 185,
   "id": "dbb5b18e-156c-4fbb-822e-9f15413ecfa8",
   "metadata": {},
   "outputs": [
    {
     "name": "stderr",
     "output_type": "stream",
     "text": [
      "/tmp/ipykernel_41936/2006519253.py:1: RuntimeWarning: overflow encountered in exp\n",
      "  np.exp(1000)\n"
     ]
    },
    {
     "data": {
      "text/plain": [
       "np.float64(inf)"
      ]
     },
     "execution_count": 185,
     "metadata": {},
     "output_type": "execute_result"
    }
   ],
   "source": [
    "np.exp(1000)"
   ]
  },
  {
   "cell_type": "markdown",
   "id": "ef738290-275c-414d-9abe-d191ed8c75bd",
   "metadata": {},
   "source": [
    "#### Пример 4. Две бесконечности"
   ]
  },
  {
   "cell_type": "code",
   "execution_count": 200,
   "id": "9228d655-3bcc-41c3-94ef-2bc5286edc90",
   "metadata": {},
   "outputs": [
    {
     "ename": "ZeroDivisionError",
     "evalue": "float division by zero",
     "output_type": "error",
     "traceback": [
      "\u001b[0;31m---------------------------------------------------------------------------\u001b[0m",
      "\u001b[0;31mZeroDivisionError\u001b[0m                         Traceback (most recent call last)",
      "Cell \u001b[0;32mIn[200], line 4\u001b[0m\n\u001b[1;32m      1\u001b[0m x \u001b[38;5;241m=\u001b[39m \u001b[38;5;241m1.0\u001b[39m\n\u001b[1;32m      2\u001b[0m y \u001b[38;5;241m=\u001b[39m \u001b[38;5;241m0.0\u001b[39m\n\u001b[0;32m----> 4\u001b[0m result \u001b[38;5;241m=\u001b[39m \u001b[43mx\u001b[49m\u001b[43m \u001b[49m\u001b[38;5;241;43m/\u001b[39;49m\u001b[43m \u001b[49m\u001b[43my\u001b[49m  \u001b[38;5;66;03m# Это вызовет ошибку ZeroDivisionError\u001b[39;00m\n",
      "\u001b[0;31mZeroDivisionError\u001b[0m: float division by zero"
     ]
    }
   ],
   "source": [
    "x = 1.0\n",
    "y = 0.0\n",
    "\n",
    "result = x / y  # Это вызовет ошибку ZeroDivisionError"
   ]
  },
  {
   "cell_type": "markdown",
   "id": "269b74aa-f94e-43a9-a9d2-50c0578cf16a",
   "metadata": {},
   "source": [
    "Если мы хотим избежать ошибки и работать с бесконечностями,\n",
    "мы можем использовать модуль `math` или встроенную поддержку бесконечностей в Python:"
   ]
  },
  {
   "cell_type": "code",
   "execution_count": 201,
   "id": "fdf9a054-1cbc-4e54-a309-e85816df936f",
   "metadata": {},
   "outputs": [
    {
     "name": "stdout",
     "output_type": "stream",
     "text": [
      "inf\n"
     ]
    }
   ],
   "source": [
    "x = 1.0\n",
    "y = 0.0\n",
    "\n",
    "if y == 0.0:\n",
    "    result = float('inf') if x > 0 else float('-inf')\n",
    "else:\n",
    "    result = x / y\n",
    "\n",
    "print(result)"
   ]
  },
  {
   "cell_type": "code",
   "execution_count": 202,
   "id": "f8fa06f5-ac43-48f2-bff5-d21c5818519f",
   "metadata": {},
   "outputs": [
    {
     "name": "stdout",
     "output_type": "stream",
     "text": [
      "inf\n"
     ]
    }
   ],
   "source": [
    "import math\n",
    "\n",
    "x = 1.0\n",
    "y = 0.0\n",
    "\n",
    "if y == 0.0:\n",
    "    result = math.inf if x > 0 else -math.inf\n",
    "else:\n",
    "    result = x / y\n",
    "\n",
    "print(result)"
   ]
  },
  {
   "cell_type": "markdown",
   "id": "9caedf80-7dbf-4c90-95e3-7f3abb1660bd",
   "metadata": {},
   "source": [
    "#### Пример 5. Nan'ы"
   ]
  },
  {
   "cell_type": "markdown",
   "id": "038bcd00-d789-41cc-b398-77baf39fa36f",
   "metadata": {},
   "source": [
    "Для иллюстрации тихого NaN используем стандартное значение NaN, которое создается через float('nan'). Этот NaN не вызывает исключение при операциях и передается в результат вычислений."
   ]
  },
  {
   "cell_type": "code",
   "execution_count": 204,
   "id": "917fdbeb-00e0-4ee3-9a76-1c4dfefa96b2",
   "metadata": {},
   "outputs": [
    {
     "name": "stdout",
     "output_type": "stream",
     "text": [
      "nan\n"
     ]
    }
   ],
   "source": [
    "qnan = float('nan')\n",
    "\n",
    "# Операция с qNaN не вызывает исключение, просто передает его\n",
    "result = qnan + 1\n",
    "print(result)  # Печатает 'nan'\n"
   ]
  },
  {
   "cell_type": "code",
   "execution_count": 205,
   "id": "34278050-d234-42f6-ab81-44eaa5131abb",
   "metadata": {},
   "outputs": [
    {
     "name": "stdout",
     "output_type": "stream",
     "text": [
      "Используется сигнализирующий NaN (sNaN), вызываю исключение\n"
     ]
    }
   ],
   "source": [
    "# Создание sNaN (сигнализирующий NaN)\n",
    "snan = float('nan')\n",
    "\n",
    "# Функция для проверки NaN и генерации исключения\n",
    "def check_and_compute(value):\n",
    "    if str(value) == 'nan':  # Проверяем, является ли значение NaN\n",
    "        raise ValueError(\"Используется сигнализирующий NaN (sNaN), вызываю исключение\")\n",
    "    return value + 1\n",
    "\n",
    "# Пример использования с sNaN\n",
    "try:\n",
    "    result = check_and_compute(snan)\n",
    "except ValueError as e:\n",
    "    print(e)  # Печатает: Используется сигнализирующий NaN (sNaN), вызываю исключение\n"
   ]
  },
  {
   "cell_type": "markdown",
   "id": "e05a693d-842b-4c1b-a4ce-9e74a0087cf2",
   "metadata": {},
   "source": [
    "## Структуры данных"
   ]
  },
  {
   "cell_type": "markdown",
   "id": "773a86d9-380f-4cab-a289-376d785553a8",
   "metadata": {},
   "source": [
    "### List (список)"
   ]
  },
  {
   "cell_type": "markdown",
   "id": "af5c956c-8934-4fb3-8fb4-8f208d2bdd31",
   "metadata": {},
   "source": [
    "Список (`list`) — это упорядоченная изменяемая коллекция элементов. В Python списки можно изменять, добавлять и удалять элементы."
   ]
  },
  {
   "cell_type": "markdown",
   "id": "94acf0f0-6703-4636-968b-7b4bfd8ae1e8",
   "metadata": {},
   "source": [
    "- Создание списка"
   ]
  },
  {
   "cell_type": "code",
   "execution_count": 215,
   "id": "50a7d74e-d1b9-4095-bfec-65bb15c3e9bd",
   "metadata": {},
   "outputs": [
    {
     "name": "stdout",
     "output_type": "stream",
     "text": [
      "[1, 2, 3, 4, 5]\n",
      "[]\n",
      "[1, 'hello', 3.14, True]\n"
     ]
    }
   ],
   "source": [
    "numbers = [1, 2, 3, 4, 5]\n",
    "empty_list = []  # Пустой список\n",
    "mixed_list = [1, \"hello\", 3.14, True]  # Разные типы данных\n",
    "\n",
    "print(numbers)\n",
    "print(empty_list)\n",
    "print(mixed_list)"
   ]
  },
  {
   "cell_type": "markdown",
   "id": "e6b9f46c-681e-4b78-8165-3905e57f6bfb",
   "metadata": {},
   "source": [
    "- Добавление элемента в конец списка"
   ]
  },
  {
   "cell_type": "code",
   "execution_count": 216,
   "id": "69563077-90cd-4809-bd22-550667163736",
   "metadata": {},
   "outputs": [
    {
     "name": "stdout",
     "output_type": "stream",
     "text": [
      "[1, 2, 3, 4]\n"
     ]
    }
   ],
   "source": [
    "numbers = [1, 2, 3]\n",
    "numbers.append(4)\n",
    "print(numbers)  # [1, 2, 3, 4]"
   ]
  },
  {
   "cell_type": "markdown",
   "id": "0b752fb3-128c-4113-9132-1f1e03f9fbac",
   "metadata": {},
   "source": [
    "- Добавление нескольких элементов"
   ]
  },
  {
   "cell_type": "code",
   "execution_count": 217,
   "id": "ecca3437-41f4-4b68-a58f-c6ba9ae1d603",
   "metadata": {},
   "outputs": [
    {
     "name": "stdout",
     "output_type": "stream",
     "text": [
      "[1, 2, 3, 4, 5, 6]\n"
     ]
    }
   ],
   "source": [
    "numbers = [1, 2, 3]\n",
    "numbers.extend([4, 5, 6])\n",
    "print(numbers)  # [1, 2, 3, 4, 5, 6]"
   ]
  },
  {
   "cell_type": "markdown",
   "id": "8dccfa96-effa-4d20-a934-1a2500868342",
   "metadata": {},
   "source": [
    "`append()` добавляет один элемент, а `extend()` — каждый элемент из переданной последовательности."
   ]
  },
  {
   "cell_type": "code",
   "execution_count": 220,
   "id": "0aa88c4d-617b-47ed-8f0d-2f0910e5411f",
   "metadata": {},
   "outputs": [
    {
     "name": "stdout",
     "output_type": "stream",
     "text": [
      "[1, 2, 3, [4, 5]]\n"
     ]
    }
   ],
   "source": [
    "numbers = [1, 2, 3]\n",
    "numbers.append([4, 5])  # Добавит список как один элемент\n",
    "print(numbers)  # [1, 2, 3, [4, 5]]"
   ]
  },
  {
   "cell_type": "markdown",
   "id": "1aa514e1-57e7-47d6-9a82-d43b99cfffb4",
   "metadata": {},
   "source": [
    "- Удаление последнего элемента (или по индексу)"
   ]
  },
  {
   "cell_type": "code",
   "execution_count": 224,
   "id": "2c277d5e-e85f-45c2-99b4-0613551f0576",
   "metadata": {},
   "outputs": [
    {
     "name": "stdout",
     "output_type": "stream",
     "text": [
      "[10, 20, 30]\n",
      "40\n"
     ]
    }
   ],
   "source": [
    "numbers = [10, 20, 30, 40]\n",
    "last_item = numbers.pop() # Удаляет последний элемент\n",
    "print(numbers)\n",
    "print(last_item)"
   ]
  },
  {
   "cell_type": "code",
   "execution_count": 225,
   "id": "c34a9454-6d27-4c4e-a66e-8de45f553e61",
   "metadata": {},
   "outputs": [
    {
     "name": "stdout",
     "output_type": "stream",
     "text": [
      "[10, 30, 40]\n",
      "20\n"
     ]
    }
   ],
   "source": [
    "numbers = [10, 20, 30, 40]\n",
    "second_item = numbers.pop(1) # Удаляем элемент с индексом 1\n",
    "print(numbers)\n",
    "print(second_item)"
   ]
  },
  {
   "cell_type": "markdown",
   "id": "eabc38bc-721b-492d-a61a-bf935082fec7",
   "metadata": {},
   "source": [
    "- Сортировка"
   ]
  },
  {
   "cell_type": "code",
   "execution_count": 228,
   "id": "2a01aecd-0117-4c33-94a6-7a662819ccf9",
   "metadata": {},
   "outputs": [
    {
     "name": "stdout",
     "output_type": "stream",
     "text": [
      "[1, 2, 3, 5, 8]\n"
     ]
    }
   ],
   "source": [
    "numbers = [5, 2, 8, 1, 3]\n",
    "numbers.sort()\n",
    "print(numbers)"
   ]
  },
  {
   "cell_type": "code",
   "execution_count": 227,
   "id": "59bdc51a-a163-428e-82a5-be99bb04d54e",
   "metadata": {},
   "outputs": [
    {
     "name": "stdout",
     "output_type": "stream",
     "text": [
      "[8, 5, 3, 2, 1]\n"
     ]
    }
   ],
   "source": [
    "numbers.sort(reverse=True)\n",
    "print(numbers)"
   ]
  },
  {
   "cell_type": "code",
   "execution_count": 230,
   "id": "f4528893-458f-44a0-8556-dfd1d4fa5af8",
   "metadata": {},
   "outputs": [
    {
     "name": "stdout",
     "output_type": "stream",
     "text": [
      "['apple', 'banana', 'cherry']\n"
     ]
    }
   ],
   "source": [
    "words = [\"banana\", \"apple\", \"cherry\"]\n",
    "words.sort()\n",
    "print(words)"
   ]
  },
  {
   "cell_type": "markdown",
   "id": "4240cc8d-4f26-47bb-a99e-a81ca6c5ac69",
   "metadata": {},
   "source": [
    "- Срезы\n",
    "\n",
    "  Срез позволяет получить часть списка без изменения оригинала."
   ]
  },
  {
   "cell_type": "code",
   "execution_count": 235,
   "id": "2f0f0d7c-1934-4741-8d16-ae0653914c3a",
   "metadata": {},
   "outputs": [
    {
     "name": "stdout",
     "output_type": "stream",
     "text": [
      "[20, 30, 40]\n"
     ]
    }
   ],
   "source": [
    "numbers = [10, 20, 30, 40, 50]\n",
    "print(numbers[1:4]) # берем элементы с индекса `1` до `4` (не включая `4`)."
   ]
  },
  {
   "cell_type": "code",
   "execution_count": 234,
   "id": "d5ba63f9-cc5d-4d4a-86a5-1a6f0319c40d",
   "metadata": {},
   "outputs": [
    {
     "name": "stdout",
     "output_type": "stream",
     "text": [
      "[0, 2, 4, 6, 8]\n"
     ]
    }
   ],
   "source": [
    "numbers = [0, 1, 2, 3, 4, 5, 6, 7, 8, 9]\n",
    "print(numbers[::2]) # берем каждый второй элемент"
   ]
  },
  {
   "cell_type": "code",
   "execution_count": 248,
   "id": "9f5adb2d-0048-407f-b374-b1ba0eb9dc16",
   "metadata": {},
   "outputs": [
    {
     "name": "stdout",
     "output_type": "stream",
     "text": [
      "[50, 40, 30, 20, 10]\n"
     ]
    }
   ],
   "source": [
    "numbers = [10, 20, 30, 40, 50]\n",
    "print(numbers[::-1])  # Обратный порядок (реверс списка)"
   ]
  },
  {
   "cell_type": "markdown",
   "id": "acce6aa2-59f7-4c0a-a245-8e33a64d1b33",
   "metadata": {},
   "source": [
    "### Кортежи"
   ]
  },
  {
   "cell_type": "markdown",
   "id": "ba524cb6-4fc3-4890-84c2-40a35f306739",
   "metadata": {},
   "source": [
    "Кортеж (`tuple`) — это неизменяемая (immutable) упорядоченная последовательность элементов. Кортежи похожи на списки, но их нельзя изменять после создания (нельзя добавлять, удалять или изменять элементы)."
   ]
  },
  {
   "cell_type": "code",
   "execution_count": 240,
   "id": "b80c58a3-1d24-4bb2-b77c-abdb77808f83",
   "metadata": {},
   "outputs": [],
   "source": [
    "# Обычный кортеж\n",
    "numbers = (1, 2, 3, 4, 5)\n",
    "\n",
    "# Кортеж с разными типами данных\n",
    "mixed = (1, \"hello\", 3.14, True)\n",
    "\n",
    "# Пустой кортеж\n",
    "empty_tuple = ()\n",
    "\n",
    "# Кортеж из одного элемента (запятая обязательна!)\n",
    "single_element = (42,)"
   ]
  },
  {
   "cell_type": "code",
   "execution_count": null,
   "id": "c163c4df-555b-4ccc-98af-6a9f9b90735b",
   "metadata": {},
   "outputs": [],
   "source": [
    "Отличие от списков"
   ]
  },
  {
   "cell_type": "code",
   "execution_count": 252,
   "id": "1fa9f5f1-fb9f-4a4f-bada-d7409988bf3a",
   "metadata": {},
   "outputs": [
    {
     "ename": "TypeError",
     "evalue": "'tuple' object does not support item assignment",
     "output_type": "error",
     "traceback": [
      "\u001b[0;31m---------------------------------------------------------------------------\u001b[0m",
      "\u001b[0;31mTypeError\u001b[0m                                 Traceback (most recent call last)",
      "Cell \u001b[0;32mIn[252], line 2\u001b[0m\n\u001b[1;32m      1\u001b[0m numbers \u001b[38;5;241m=\u001b[39m (\u001b[38;5;241m1\u001b[39m, \u001b[38;5;241m2\u001b[39m, \u001b[38;5;241m3\u001b[39m)\n\u001b[0;32m----> 2\u001b[0m \u001b[43mnumbers\u001b[49m\u001b[43m[\u001b[49m\u001b[38;5;241;43m0\u001b[39;49m\u001b[43m]\u001b[49m \u001b[38;5;241m=\u001b[39m \u001b[38;5;241m100\u001b[39m\n",
      "\u001b[0;31mTypeError\u001b[0m: 'tuple' object does not support item assignment"
     ]
    }
   ],
   "source": [
    "numbers = (1, 2, 3)\n",
    "numbers[0] = 100"
   ]
  },
  {
   "cell_type": "code",
   "execution_count": 253,
   "id": "0dacf749-bac7-40e7-9d8d-910663e27cd5",
   "metadata": {},
   "outputs": [],
   "source": [
    "new_numbers = (100,) + numbers[1:]  # (100, 2, 3)"
   ]
  },
  {
   "cell_type": "markdown",
   "id": "292d9c85-afb8-4a00-b176-7396f84dd27c",
   "metadata": {},
   "source": [
    "Методы"
   ]
  },
  {
   "cell_type": "code",
   "execution_count": 249,
   "id": "0fa7071f-b64e-49a8-a622-77837e2bb123",
   "metadata": {},
   "outputs": [
    {
     "name": "stdout",
     "output_type": "stream",
     "text": [
      "3\n"
     ]
    }
   ],
   "source": [
    "nums = (1, 2, 2, 3, 4, 2)\n",
    "print(nums.count(2))"
   ]
  },
  {
   "cell_type": "code",
   "execution_count": 258,
   "id": "4cc8f02a-f5a9-49a5-ac90-596dc1838180",
   "metadata": {},
   "outputs": [
    {
     "name": "stdout",
     "output_type": "stream",
     "text": [
      "2\n"
     ]
    }
   ],
   "source": [
    "nums = (10, 20, 30, 40)\n",
    "print(nums.index(30))"
   ]
  },
  {
   "cell_type": "markdown",
   "id": "a3cc4467-2cd2-4e06-8c9a-7a29dcf30a03",
   "metadata": {},
   "source": [
    "Ещё отметить множества и словари."
   ]
  }
 ],
 "metadata": {
  "kernelspec": {
   "display_name": "Python 3 (ipykernel)",
   "language": "python",
   "name": "python3"
  },
  "language_info": {
   "codemirror_mode": {
    "name": "ipython",
    "version": 3
   },
   "file_extension": ".py",
   "mimetype": "text/x-python",
   "name": "python",
   "nbconvert_exporter": "python",
   "pygments_lexer": "ipython3",
   "version": "3.13.2"
  }
 },
 "nbformat": 4,
 "nbformat_minor": 5
}
