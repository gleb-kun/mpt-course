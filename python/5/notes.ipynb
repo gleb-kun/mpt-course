{
 "cells": [
  {
   "cell_type": "markdown",
   "id": "dd741064-d24e-436d-ac1e-fee5afd33a00",
   "metadata": {},
   "source": [
    "## Тема 5. Исследование функций"
   ]
  }
 ],
 "metadata": {
  "kernelspec": {
   "display_name": "Python 3 (ipykernel)",
   "language": "python",
   "name": "python3"
  },
  "language_info": {
   "codemirror_mode": {
    "name": "ipython",
    "version": 3
   },
   "file_extension": ".py",
   "mimetype": "text/x-python",
   "name": "python",
   "nbconvert_exporter": "python",
   "pygments_lexer": "ipython3",
   "version": "3.13.2"
  }
 },
 "nbformat": 4,
 "nbformat_minor": 5
}
