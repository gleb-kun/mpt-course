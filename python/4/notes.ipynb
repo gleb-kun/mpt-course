{
 "cells": [
  {
   "cell_type": "markdown",
   "id": "8704b775-521a-4f59-9b7a-a63bd83ca7a5",
   "metadata": {},
   "source": [
    "# Тема #4. Построение графиков"
   ]
  },
  {
   "cell_type": "code",
   "execution_count": null,
   "id": "c85d506e-4dc7-4950-b352-6554da5ef678",
   "metadata": {},
   "outputs": [],
   "source": []
  }
 ],
 "metadata": {
  "kernelspec": {
   "display_name": "Python 3 (ipykernel)",
   "language": "python",
   "name": "python3"
  },
  "language_info": {
   "codemirror_mode": {
    "name": "ipython",
    "version": 3
   },
   "file_extension": ".py",
   "mimetype": "text/x-python",
   "name": "python",
   "nbconvert_exporter": "python",
   "pygments_lexer": "ipython3",
   "version": "3.13.2"
  }
 },
 "nbformat": 4,
 "nbformat_minor": 5
}
